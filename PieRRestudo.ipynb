{
  "nbformat": 4,
  "nbformat_minor": 0,
  "metadata": {
    "colab": {
      "provenance": [],
      "mount_file_id": "https://github.com/luisArthurRodriguesDaSilva/analise-eleicoes-brasileiras-2022/blob/master/PieRRestudo.ipynb",
      "authorship_tag": "ABX9TyN4JaNmgJwsJ8O+MWWsTbz4",
      "include_colab_link": true
    },
    "kernelspec": {
      "name": "python3",
      "display_name": "Python 3"
    },
    "language_info": {
      "name": "python"
    }
  },
  "cells": [
    {
      "cell_type": "markdown",
      "metadata": {
        "id": "view-in-github",
        "colab_type": "text"
      },
      "source": [
        "<a href=\"https://colab.research.google.com/github/luisArthurRodriguesDaSilva/analise-eleicoes-brasileiras-2022/blob/master/PieRRestudo.ipynb\" target=\"_parent\"><img src=\"https://colab.research.google.com/assets/colab-badge.svg\" alt=\"Open In Colab\"/></a>"
      ]
    },
    {
      "cell_type": "markdown",
      "source": [
        "# importação dos recursos nescessários"
      ],
      "metadata": {
        "id": "H0wmYYAGean7"
      }
    },
    {
      "cell_type": "code",
      "execution_count": 184,
      "metadata": {
        "id": "3C8m_oIQTPU5"
      },
      "outputs": [],
      "source": [
        "import seaborn as sns\n",
        "import random\n",
        "import pandas as pd\n",
        "from matplotlib import pyplot as plt\n",
        "import numpy as np\n",
        "import requests\n",
        "import json\n",
        "import folium\n",
        "import re"
      ]
    },
    {
      "cell_type": "markdown",
      "source": [
        "###diferenciadores esquerda e direita"
      ],
      "metadata": {
        "id": "xbMgWvvNU3Rb"
      }
    },
    {
      "cell_type": "code",
      "source": [
        "url = 'https://pt.m.wikipedia.org/wiki/Posicionamentos_dos_partidos_brasileiros'\n",
        "table = pd.read_html(url , match='Partido')\n",
        "politicalPositionTable = table[0][['Partido','Espectro Político']]"
      ],
      "metadata": {
        "id": "KamI0oovU_ek"
      },
      "execution_count": 185,
      "outputs": []
    },
    {
      "cell_type": "code",
      "source": [
        "#politicalPositionTable['Partido']['Referências'][i]\n",
        "def cleanPartidoName(wrongName):\n",
        "  try:\n",
        "    return re.findall(\"\\([1-ã]{1,}\\)\", wrongName,flags=re.I )[0].replace(')','').replace('(','').lower()\n",
        "  except:\n",
        "    return wrongName\n",
        "\n",
        "#politicalPositionTable['Espectro Político']['Unnamed: 1_level_1'][i]\n",
        "def cleanSide(wrongSide):\n",
        "  side =  re.findall(\"((esquerda)|(direita))\",wrongSide,flags=re.I )#.replace('C','c').replace('Centro','').replace('-','')\n",
        "  try:\n",
        "    return side[0][0]\n",
        "  except:\n",
        "    return 'centro'\n"
      ],
      "metadata": {
        "id": "RI7iLnazWqIF"
      },
      "execution_count": 186,
      "outputs": []
    },
    {
      "cell_type": "code",
      "source": [
        "sides = list(map(cleanSide,politicalPositionTable['Espectro Político']['Unnamed: 1_level_1']))\n",
        "names = list(map(cleanPartidoName,politicalPositionTable['Partido']['Referências']))\n",
        "ideologicTable = pd.DataFrame(np.c_[names, sides], columns=['partido', 'lado'])\n",
        "ideologicTable"
      ],
      "metadata": {
        "id": "zJJWEcw7ZqlW",
        "outputId": "f8d1fcf8-37fb-4349-e512-3f1024805172",
        "colab": {
          "base_uri": "https://localhost:8080/",
          "height": 1000
        }
      },
      "execution_count": 187,
      "outputs": [
        {
          "output_type": "execute_result",
          "data": {
            "text/plain": [
              "          partido      lado\n",
              "0    republicanos   direita\n",
              "1              pp   Direita\n",
              "2              pt  esquerda\n",
              "3             pdt  Esquerda\n",
              "4             ptb   Direita\n",
              "5             mdb    centro\n",
              "6            pstu  Esquerda\n",
              "7             psl   Direita\n",
              "8            rede  esquerda\n",
              "9            pode   direita\n",
              "10            psc   Direita\n",
              "11            pcb  Esquerda\n",
              "12             pl   direita\n",
              "13      cidadania    centro\n",
              "14            dem   direita\n",
              "15             dc   direita\n",
              "16           prtb   direita\n",
              "17            pco  Esquerda\n",
              "18           novo   Direita\n",
              "19            pmn    centro\n",
              "20            pmb   direita\n",
              "21           agir   direita\n",
              "22            psb  esquerda\n",
              "23             pv  esquerda\n",
              "24          união   Direita\n",
              "25           psdb    centro\n",
              "26           psol  Esquerda\n",
              "27       patriota   Direita\n",
              "28            psd    centro\n",
              "29          pcdob  Esquerda\n",
              "30         avante    centro\n",
              "31  solidariedade    centro\n",
              "32             up  Esquerda\n",
              "33           pros    centro"
            ],
            "text/html": [
              "\n",
              "  <div id=\"df-bd34881c-384c-4a46-b702-9c290e7818ed\">\n",
              "    <div class=\"colab-df-container\">\n",
              "      <div>\n",
              "<style scoped>\n",
              "    .dataframe tbody tr th:only-of-type {\n",
              "        vertical-align: middle;\n",
              "    }\n",
              "\n",
              "    .dataframe tbody tr th {\n",
              "        vertical-align: top;\n",
              "    }\n",
              "\n",
              "    .dataframe thead th {\n",
              "        text-align: right;\n",
              "    }\n",
              "</style>\n",
              "<table border=\"1\" class=\"dataframe\">\n",
              "  <thead>\n",
              "    <tr style=\"text-align: right;\">\n",
              "      <th></th>\n",
              "      <th>partido</th>\n",
              "      <th>lado</th>\n",
              "    </tr>\n",
              "  </thead>\n",
              "  <tbody>\n",
              "    <tr>\n",
              "      <th>0</th>\n",
              "      <td>republicanos</td>\n",
              "      <td>direita</td>\n",
              "    </tr>\n",
              "    <tr>\n",
              "      <th>1</th>\n",
              "      <td>pp</td>\n",
              "      <td>Direita</td>\n",
              "    </tr>\n",
              "    <tr>\n",
              "      <th>2</th>\n",
              "      <td>pt</td>\n",
              "      <td>esquerda</td>\n",
              "    </tr>\n",
              "    <tr>\n",
              "      <th>3</th>\n",
              "      <td>pdt</td>\n",
              "      <td>Esquerda</td>\n",
              "    </tr>\n",
              "    <tr>\n",
              "      <th>4</th>\n",
              "      <td>ptb</td>\n",
              "      <td>Direita</td>\n",
              "    </tr>\n",
              "    <tr>\n",
              "      <th>5</th>\n",
              "      <td>mdb</td>\n",
              "      <td>centro</td>\n",
              "    </tr>\n",
              "    <tr>\n",
              "      <th>6</th>\n",
              "      <td>pstu</td>\n",
              "      <td>Esquerda</td>\n",
              "    </tr>\n",
              "    <tr>\n",
              "      <th>7</th>\n",
              "      <td>psl</td>\n",
              "      <td>Direita</td>\n",
              "    </tr>\n",
              "    <tr>\n",
              "      <th>8</th>\n",
              "      <td>rede</td>\n",
              "      <td>esquerda</td>\n",
              "    </tr>\n",
              "    <tr>\n",
              "      <th>9</th>\n",
              "      <td>pode</td>\n",
              "      <td>direita</td>\n",
              "    </tr>\n",
              "    <tr>\n",
              "      <th>10</th>\n",
              "      <td>psc</td>\n",
              "      <td>Direita</td>\n",
              "    </tr>\n",
              "    <tr>\n",
              "      <th>11</th>\n",
              "      <td>pcb</td>\n",
              "      <td>Esquerda</td>\n",
              "    </tr>\n",
              "    <tr>\n",
              "      <th>12</th>\n",
              "      <td>pl</td>\n",
              "      <td>direita</td>\n",
              "    </tr>\n",
              "    <tr>\n",
              "      <th>13</th>\n",
              "      <td>cidadania</td>\n",
              "      <td>centro</td>\n",
              "    </tr>\n",
              "    <tr>\n",
              "      <th>14</th>\n",
              "      <td>dem</td>\n",
              "      <td>direita</td>\n",
              "    </tr>\n",
              "    <tr>\n",
              "      <th>15</th>\n",
              "      <td>dc</td>\n",
              "      <td>direita</td>\n",
              "    </tr>\n",
              "    <tr>\n",
              "      <th>16</th>\n",
              "      <td>prtb</td>\n",
              "      <td>direita</td>\n",
              "    </tr>\n",
              "    <tr>\n",
              "      <th>17</th>\n",
              "      <td>pco</td>\n",
              "      <td>Esquerda</td>\n",
              "    </tr>\n",
              "    <tr>\n",
              "      <th>18</th>\n",
              "      <td>novo</td>\n",
              "      <td>Direita</td>\n",
              "    </tr>\n",
              "    <tr>\n",
              "      <th>19</th>\n",
              "      <td>pmn</td>\n",
              "      <td>centro</td>\n",
              "    </tr>\n",
              "    <tr>\n",
              "      <th>20</th>\n",
              "      <td>pmb</td>\n",
              "      <td>direita</td>\n",
              "    </tr>\n",
              "    <tr>\n",
              "      <th>21</th>\n",
              "      <td>agir</td>\n",
              "      <td>direita</td>\n",
              "    </tr>\n",
              "    <tr>\n",
              "      <th>22</th>\n",
              "      <td>psb</td>\n",
              "      <td>esquerda</td>\n",
              "    </tr>\n",
              "    <tr>\n",
              "      <th>23</th>\n",
              "      <td>pv</td>\n",
              "      <td>esquerda</td>\n",
              "    </tr>\n",
              "    <tr>\n",
              "      <th>24</th>\n",
              "      <td>união</td>\n",
              "      <td>Direita</td>\n",
              "    </tr>\n",
              "    <tr>\n",
              "      <th>25</th>\n",
              "      <td>psdb</td>\n",
              "      <td>centro</td>\n",
              "    </tr>\n",
              "    <tr>\n",
              "      <th>26</th>\n",
              "      <td>psol</td>\n",
              "      <td>Esquerda</td>\n",
              "    </tr>\n",
              "    <tr>\n",
              "      <th>27</th>\n",
              "      <td>patriota</td>\n",
              "      <td>Direita</td>\n",
              "    </tr>\n",
              "    <tr>\n",
              "      <th>28</th>\n",
              "      <td>psd</td>\n",
              "      <td>centro</td>\n",
              "    </tr>\n",
              "    <tr>\n",
              "      <th>29</th>\n",
              "      <td>pcdob</td>\n",
              "      <td>Esquerda</td>\n",
              "    </tr>\n",
              "    <tr>\n",
              "      <th>30</th>\n",
              "      <td>avante</td>\n",
              "      <td>centro</td>\n",
              "    </tr>\n",
              "    <tr>\n",
              "      <th>31</th>\n",
              "      <td>solidariedade</td>\n",
              "      <td>centro</td>\n",
              "    </tr>\n",
              "    <tr>\n",
              "      <th>32</th>\n",
              "      <td>up</td>\n",
              "      <td>Esquerda</td>\n",
              "    </tr>\n",
              "    <tr>\n",
              "      <th>33</th>\n",
              "      <td>pros</td>\n",
              "      <td>centro</td>\n",
              "    </tr>\n",
              "  </tbody>\n",
              "</table>\n",
              "</div>\n",
              "      <button class=\"colab-df-convert\" onclick=\"convertToInteractive('df-bd34881c-384c-4a46-b702-9c290e7818ed')\"\n",
              "              title=\"Convert this dataframe to an interactive table.\"\n",
              "              style=\"display:none;\">\n",
              "        \n",
              "  <svg xmlns=\"http://www.w3.org/2000/svg\" height=\"24px\"viewBox=\"0 0 24 24\"\n",
              "       width=\"24px\">\n",
              "    <path d=\"M0 0h24v24H0V0z\" fill=\"none\"/>\n",
              "    <path d=\"M18.56 5.44l.94 2.06.94-2.06 2.06-.94-2.06-.94-.94-2.06-.94 2.06-2.06.94zm-11 1L8.5 8.5l.94-2.06 2.06-.94-2.06-.94L8.5 2.5l-.94 2.06-2.06.94zm10 10l.94 2.06.94-2.06 2.06-.94-2.06-.94-.94-2.06-.94 2.06-2.06.94z\"/><path d=\"M17.41 7.96l-1.37-1.37c-.4-.4-.92-.59-1.43-.59-.52 0-1.04.2-1.43.59L10.3 9.45l-7.72 7.72c-.78.78-.78 2.05 0 2.83L4 21.41c.39.39.9.59 1.41.59.51 0 1.02-.2 1.41-.59l7.78-7.78 2.81-2.81c.8-.78.8-2.07 0-2.86zM5.41 20L4 18.59l7.72-7.72 1.47 1.35L5.41 20z\"/>\n",
              "  </svg>\n",
              "      </button>\n",
              "      \n",
              "  <style>\n",
              "    .colab-df-container {\n",
              "      display:flex;\n",
              "      flex-wrap:wrap;\n",
              "      gap: 12px;\n",
              "    }\n",
              "\n",
              "    .colab-df-convert {\n",
              "      background-color: #E8F0FE;\n",
              "      border: none;\n",
              "      border-radius: 50%;\n",
              "      cursor: pointer;\n",
              "      display: none;\n",
              "      fill: #1967D2;\n",
              "      height: 32px;\n",
              "      padding: 0 0 0 0;\n",
              "      width: 32px;\n",
              "    }\n",
              "\n",
              "    .colab-df-convert:hover {\n",
              "      background-color: #E2EBFA;\n",
              "      box-shadow: 0px 1px 2px rgba(60, 64, 67, 0.3), 0px 1px 3px 1px rgba(60, 64, 67, 0.15);\n",
              "      fill: #174EA6;\n",
              "    }\n",
              "\n",
              "    [theme=dark] .colab-df-convert {\n",
              "      background-color: #3B4455;\n",
              "      fill: #D2E3FC;\n",
              "    }\n",
              "\n",
              "    [theme=dark] .colab-df-convert:hover {\n",
              "      background-color: #434B5C;\n",
              "      box-shadow: 0px 1px 3px 1px rgba(0, 0, 0, 0.15);\n",
              "      filter: drop-shadow(0px 1px 2px rgba(0, 0, 0, 0.3));\n",
              "      fill: #FFFFFF;\n",
              "    }\n",
              "  </style>\n",
              "\n",
              "      <script>\n",
              "        const buttonEl =\n",
              "          document.querySelector('#df-bd34881c-384c-4a46-b702-9c290e7818ed button.colab-df-convert');\n",
              "        buttonEl.style.display =\n",
              "          google.colab.kernel.accessAllowed ? 'block' : 'none';\n",
              "\n",
              "        async function convertToInteractive(key) {\n",
              "          const element = document.querySelector('#df-bd34881c-384c-4a46-b702-9c290e7818ed');\n",
              "          const dataTable =\n",
              "            await google.colab.kernel.invokeFunction('convertToInteractive',\n",
              "                                                     [key], {});\n",
              "          if (!dataTable) return;\n",
              "\n",
              "          const docLinkHtml = 'Like what you see? Visit the ' +\n",
              "            '<a target=\"_blank\" href=https://colab.research.google.com/notebooks/data_table.ipynb>data table notebook</a>'\n",
              "            + ' to learn more about interactive tables.';\n",
              "          element.innerHTML = '';\n",
              "          dataTable['output_type'] = 'display_data';\n",
              "          await google.colab.output.renderOutput(dataTable, element);\n",
              "          const docLink = document.createElement('div');\n",
              "          docLink.innerHTML = docLinkHtml;\n",
              "          element.appendChild(docLink);\n",
              "        }\n",
              "      </script>\n",
              "    </div>\n",
              "  </div>\n",
              "  "
            ]
          },
          "metadata": {},
          "execution_count": 187
        }
      ]
    },
    {
      "cell_type": "code",
      "source": [
        "def getIdeologia(partido):\n",
        "  return ideologicTable[ideologicTable['partido'] == partido.lower()]['lado'].values[0].lower()\n",
        "getIdeologia('PP')"
      ],
      "metadata": {
        "id": "4mN--gXmeWL1",
        "outputId": "9dd25ce7-b057-4dfe-b19e-b3b7dba26232",
        "colab": {
          "base_uri": "https://localhost:8080/",
          "height": 35
        }
      },
      "execution_count": 188,
      "outputs": [
        {
          "output_type": "execute_result",
          "data": {
            "text/plain": [
              "'direita'"
            ],
            "application/vnd.google.colaboratory.intrinsic+json": {
              "type": "string"
            }
          },
          "metadata": {},
          "execution_count": 188
        }
      ]
    },
    {
      "cell_type": "code",
      "source": [
        "colorsTable = {\n",
        "    \"esquerda\":\"red\",\n",
        "    \"direita\":\"green\",\n",
        "    \"centro\":\"blue\"\n",
        "}\n",
        "def getCorDaIdeologia(partido):\n",
        "  try:\n",
        "    ideologia = getIdeologia(partido)\n",
        "    return colorsTable[ideologia]\n",
        "  except:\n",
        "    print('errou')\n",
        "    return 'black'\n",
        "\n",
        "getCorDaIdeologia('PP')"
      ],
      "metadata": {
        "id": "bJ_LHtIUehnx",
        "outputId": "f311e412-2c15-4164-b873-0462f6ff943f",
        "colab": {
          "base_uri": "https://localhost:8080/",
          "height": 35
        }
      },
      "execution_count": 189,
      "outputs": [
        {
          "output_type": "execute_result",
          "data": {
            "text/plain": [
              "'green'"
            ],
            "application/vnd.google.colaboratory.intrinsic+json": {
              "type": "string"
            }
          },
          "metadata": {},
          "execution_count": 189
        }
      ]
    },
    {
      "cell_type": "markdown",
      "source": [
        "###obtenção dos dados"
      ],
      "metadata": {
        "id": "Mj_mWGNSeW-L"
      }
    },
    {
      "cell_type": "code",
      "source": [
        "dados = pd.read_csv('/content/drive/MyDrive/dados eleições/votacao_partido_munzona_2020_BRASIL.csv',sep=\";\",encoding='latin-1')"
      ],
      "metadata": {
        "id": "Ca5d6m_-YsDO"
      },
      "execution_count": 190,
      "outputs": []
    },
    {
      "cell_type": "code",
      "source": [
        "queryPrimeiroTurno = dados[\n",
        "    (dados['NR_TURNO'] == 1)\n",
        "]"
      ],
      "metadata": {
        "id": "xN5C1yhr644n"
      },
      "execution_count": 191,
      "outputs": []
    },
    {
      "cell_type": "code",
      "source": [
        "\n",
        "data = queryPrimeiroTurno[['SG_UF','NR_PARTIDO','SG_PARTIDO','NM_PARTIDO','QT_VOTOS_NOMINAIS','DS_CARGO']]\n",
        "data.head()"
      ],
      "metadata": {
        "colab": {
          "base_uri": "https://localhost:8080/",
          "height": 206
        },
        "id": "5ByVxWcX_WjZ",
        "outputId": "ffdc5c4f-0665-4e59-86a1-b9860b4c4710"
      },
      "execution_count": 192,
      "outputs": [
        {
          "output_type": "execute_result",
          "data": {
            "text/plain": [
              "  SG_UF  NR_PARTIDO SG_PARTIDO                        NM_PARTIDO  \\\n",
              "0    AM          12        PDT   Partido Democrático Trabalhista   \n",
              "1    SP          15        MDB  Movimento Democrático Brasileiro   \n",
              "2    SP          17        PSL            Partido Social Liberal   \n",
              "3    AP          22         PL                   Partido Liberal   \n",
              "4    RS          25        DEM                        Democratas   \n",
              "\n",
              "   QT_VOTOS_NOMINAIS  DS_CARGO  \n",
              "0                457  Vereador  \n",
              "1               1246  Vereador  \n",
              "2               1142  Vereador  \n",
              "3               1484  Vereador  \n",
              "4                407  Vereador  "
            ],
            "text/html": [
              "\n",
              "  <div id=\"df-0b58d2bb-66c7-455b-9d0b-120c7db92084\">\n",
              "    <div class=\"colab-df-container\">\n",
              "      <div>\n",
              "<style scoped>\n",
              "    .dataframe tbody tr th:only-of-type {\n",
              "        vertical-align: middle;\n",
              "    }\n",
              "\n",
              "    .dataframe tbody tr th {\n",
              "        vertical-align: top;\n",
              "    }\n",
              "\n",
              "    .dataframe thead th {\n",
              "        text-align: right;\n",
              "    }\n",
              "</style>\n",
              "<table border=\"1\" class=\"dataframe\">\n",
              "  <thead>\n",
              "    <tr style=\"text-align: right;\">\n",
              "      <th></th>\n",
              "      <th>SG_UF</th>\n",
              "      <th>NR_PARTIDO</th>\n",
              "      <th>SG_PARTIDO</th>\n",
              "      <th>NM_PARTIDO</th>\n",
              "      <th>QT_VOTOS_NOMINAIS</th>\n",
              "      <th>DS_CARGO</th>\n",
              "    </tr>\n",
              "  </thead>\n",
              "  <tbody>\n",
              "    <tr>\n",
              "      <th>0</th>\n",
              "      <td>AM</td>\n",
              "      <td>12</td>\n",
              "      <td>PDT</td>\n",
              "      <td>Partido Democrático Trabalhista</td>\n",
              "      <td>457</td>\n",
              "      <td>Vereador</td>\n",
              "    </tr>\n",
              "    <tr>\n",
              "      <th>1</th>\n",
              "      <td>SP</td>\n",
              "      <td>15</td>\n",
              "      <td>MDB</td>\n",
              "      <td>Movimento Democrático Brasileiro</td>\n",
              "      <td>1246</td>\n",
              "      <td>Vereador</td>\n",
              "    </tr>\n",
              "    <tr>\n",
              "      <th>2</th>\n",
              "      <td>SP</td>\n",
              "      <td>17</td>\n",
              "      <td>PSL</td>\n",
              "      <td>Partido Social Liberal</td>\n",
              "      <td>1142</td>\n",
              "      <td>Vereador</td>\n",
              "    </tr>\n",
              "    <tr>\n",
              "      <th>3</th>\n",
              "      <td>AP</td>\n",
              "      <td>22</td>\n",
              "      <td>PL</td>\n",
              "      <td>Partido Liberal</td>\n",
              "      <td>1484</td>\n",
              "      <td>Vereador</td>\n",
              "    </tr>\n",
              "    <tr>\n",
              "      <th>4</th>\n",
              "      <td>RS</td>\n",
              "      <td>25</td>\n",
              "      <td>DEM</td>\n",
              "      <td>Democratas</td>\n",
              "      <td>407</td>\n",
              "      <td>Vereador</td>\n",
              "    </tr>\n",
              "  </tbody>\n",
              "</table>\n",
              "</div>\n",
              "      <button class=\"colab-df-convert\" onclick=\"convertToInteractive('df-0b58d2bb-66c7-455b-9d0b-120c7db92084')\"\n",
              "              title=\"Convert this dataframe to an interactive table.\"\n",
              "              style=\"display:none;\">\n",
              "        \n",
              "  <svg xmlns=\"http://www.w3.org/2000/svg\" height=\"24px\"viewBox=\"0 0 24 24\"\n",
              "       width=\"24px\">\n",
              "    <path d=\"M0 0h24v24H0V0z\" fill=\"none\"/>\n",
              "    <path d=\"M18.56 5.44l.94 2.06.94-2.06 2.06-.94-2.06-.94-.94-2.06-.94 2.06-2.06.94zm-11 1L8.5 8.5l.94-2.06 2.06-.94-2.06-.94L8.5 2.5l-.94 2.06-2.06.94zm10 10l.94 2.06.94-2.06 2.06-.94-2.06-.94-.94-2.06-.94 2.06-2.06.94z\"/><path d=\"M17.41 7.96l-1.37-1.37c-.4-.4-.92-.59-1.43-.59-.52 0-1.04.2-1.43.59L10.3 9.45l-7.72 7.72c-.78.78-.78 2.05 0 2.83L4 21.41c.39.39.9.59 1.41.59.51 0 1.02-.2 1.41-.59l7.78-7.78 2.81-2.81c.8-.78.8-2.07 0-2.86zM5.41 20L4 18.59l7.72-7.72 1.47 1.35L5.41 20z\"/>\n",
              "  </svg>\n",
              "      </button>\n",
              "      \n",
              "  <style>\n",
              "    .colab-df-container {\n",
              "      display:flex;\n",
              "      flex-wrap:wrap;\n",
              "      gap: 12px;\n",
              "    }\n",
              "\n",
              "    .colab-df-convert {\n",
              "      background-color: #E8F0FE;\n",
              "      border: none;\n",
              "      border-radius: 50%;\n",
              "      cursor: pointer;\n",
              "      display: none;\n",
              "      fill: #1967D2;\n",
              "      height: 32px;\n",
              "      padding: 0 0 0 0;\n",
              "      width: 32px;\n",
              "    }\n",
              "\n",
              "    .colab-df-convert:hover {\n",
              "      background-color: #E2EBFA;\n",
              "      box-shadow: 0px 1px 2px rgba(60, 64, 67, 0.3), 0px 1px 3px 1px rgba(60, 64, 67, 0.15);\n",
              "      fill: #174EA6;\n",
              "    }\n",
              "\n",
              "    [theme=dark] .colab-df-convert {\n",
              "      background-color: #3B4455;\n",
              "      fill: #D2E3FC;\n",
              "    }\n",
              "\n",
              "    [theme=dark] .colab-df-convert:hover {\n",
              "      background-color: #434B5C;\n",
              "      box-shadow: 0px 1px 3px 1px rgba(0, 0, 0, 0.15);\n",
              "      filter: drop-shadow(0px 1px 2px rgba(0, 0, 0, 0.3));\n",
              "      fill: #FFFFFF;\n",
              "    }\n",
              "  </style>\n",
              "\n",
              "      <script>\n",
              "        const buttonEl =\n",
              "          document.querySelector('#df-0b58d2bb-66c7-455b-9d0b-120c7db92084 button.colab-df-convert');\n",
              "        buttonEl.style.display =\n",
              "          google.colab.kernel.accessAllowed ? 'block' : 'none';\n",
              "\n",
              "        async function convertToInteractive(key) {\n",
              "          const element = document.querySelector('#df-0b58d2bb-66c7-455b-9d0b-120c7db92084');\n",
              "          const dataTable =\n",
              "            await google.colab.kernel.invokeFunction('convertToInteractive',\n",
              "                                                     [key], {});\n",
              "          if (!dataTable) return;\n",
              "\n",
              "          const docLinkHtml = 'Like what you see? Visit the ' +\n",
              "            '<a target=\"_blank\" href=https://colab.research.google.com/notebooks/data_table.ipynb>data table notebook</a>'\n",
              "            + ' to learn more about interactive tables.';\n",
              "          element.innerHTML = '';\n",
              "          dataTable['output_type'] = 'display_data';\n",
              "          await google.colab.output.renderOutput(dataTable, element);\n",
              "          const docLink = document.createElement('div');\n",
              "          docLink.innerHTML = docLinkHtml;\n",
              "          element.appendChild(docLink);\n",
              "        }\n",
              "      </script>\n",
              "    </div>\n",
              "  </div>\n",
              "  "
            ]
          },
          "metadata": {},
          "execution_count": 192
        }
      ]
    },
    {
      "cell_type": "code",
      "source": [
        "def getDataByUf(uf,cargo = 'Vereador'):\n",
        "  thisUfData = data[(data['SG_UF'] == uf.upper()) & (data['DS_CARGO'] == cargo)]\n",
        "  grouped = thisUfData.groupby(['SG_PARTIDO']).agg(quantidade=( 'QT_VOTOS_NOMINAIS', 'sum'))\n",
        "  return grouped.sort_values(by='quantidade',ascending=False)\n",
        "\n",
        "rrDataV,piDataV = getDataByUf('rr'), getDataByUf('pi')\n",
        "rrDataV.head()"
      ],
      "metadata": {
        "id": "oMrSTgQ-H9Q6",
        "outputId": "f0d3a97d-e9be-46d8-edf2-84483bdbaf29",
        "colab": {
          "base_uri": "https://localhost:8080/",
          "height": 238
        }
      },
      "execution_count": 193,
      "outputs": [
        {
          "output_type": "execute_result",
          "data": {
            "text/plain": [
              "               quantidade\n",
              "SG_PARTIDO               \n",
              "REPUBLICANOS        31365\n",
              "SOLIDARIEDADE       30814\n",
              "MDB                 24417\n",
              "PSD                 14423\n",
              "PL                  11694"
            ],
            "text/html": [
              "\n",
              "  <div id=\"df-c3411730-b2db-4fb5-a494-e1f3b9f3c2e3\">\n",
              "    <div class=\"colab-df-container\">\n",
              "      <div>\n",
              "<style scoped>\n",
              "    .dataframe tbody tr th:only-of-type {\n",
              "        vertical-align: middle;\n",
              "    }\n",
              "\n",
              "    .dataframe tbody tr th {\n",
              "        vertical-align: top;\n",
              "    }\n",
              "\n",
              "    .dataframe thead th {\n",
              "        text-align: right;\n",
              "    }\n",
              "</style>\n",
              "<table border=\"1\" class=\"dataframe\">\n",
              "  <thead>\n",
              "    <tr style=\"text-align: right;\">\n",
              "      <th></th>\n",
              "      <th>quantidade</th>\n",
              "    </tr>\n",
              "    <tr>\n",
              "      <th>SG_PARTIDO</th>\n",
              "      <th></th>\n",
              "    </tr>\n",
              "  </thead>\n",
              "  <tbody>\n",
              "    <tr>\n",
              "      <th>REPUBLICANOS</th>\n",
              "      <td>31365</td>\n",
              "    </tr>\n",
              "    <tr>\n",
              "      <th>SOLIDARIEDADE</th>\n",
              "      <td>30814</td>\n",
              "    </tr>\n",
              "    <tr>\n",
              "      <th>MDB</th>\n",
              "      <td>24417</td>\n",
              "    </tr>\n",
              "    <tr>\n",
              "      <th>PSD</th>\n",
              "      <td>14423</td>\n",
              "    </tr>\n",
              "    <tr>\n",
              "      <th>PL</th>\n",
              "      <td>11694</td>\n",
              "    </tr>\n",
              "  </tbody>\n",
              "</table>\n",
              "</div>\n",
              "      <button class=\"colab-df-convert\" onclick=\"convertToInteractive('df-c3411730-b2db-4fb5-a494-e1f3b9f3c2e3')\"\n",
              "              title=\"Convert this dataframe to an interactive table.\"\n",
              "              style=\"display:none;\">\n",
              "        \n",
              "  <svg xmlns=\"http://www.w3.org/2000/svg\" height=\"24px\"viewBox=\"0 0 24 24\"\n",
              "       width=\"24px\">\n",
              "    <path d=\"M0 0h24v24H0V0z\" fill=\"none\"/>\n",
              "    <path d=\"M18.56 5.44l.94 2.06.94-2.06 2.06-.94-2.06-.94-.94-2.06-.94 2.06-2.06.94zm-11 1L8.5 8.5l.94-2.06 2.06-.94-2.06-.94L8.5 2.5l-.94 2.06-2.06.94zm10 10l.94 2.06.94-2.06 2.06-.94-2.06-.94-.94-2.06-.94 2.06-2.06.94z\"/><path d=\"M17.41 7.96l-1.37-1.37c-.4-.4-.92-.59-1.43-.59-.52 0-1.04.2-1.43.59L10.3 9.45l-7.72 7.72c-.78.78-.78 2.05 0 2.83L4 21.41c.39.39.9.59 1.41.59.51 0 1.02-.2 1.41-.59l7.78-7.78 2.81-2.81c.8-.78.8-2.07 0-2.86zM5.41 20L4 18.59l7.72-7.72 1.47 1.35L5.41 20z\"/>\n",
              "  </svg>\n",
              "      </button>\n",
              "      \n",
              "  <style>\n",
              "    .colab-df-container {\n",
              "      display:flex;\n",
              "      flex-wrap:wrap;\n",
              "      gap: 12px;\n",
              "    }\n",
              "\n",
              "    .colab-df-convert {\n",
              "      background-color: #E8F0FE;\n",
              "      border: none;\n",
              "      border-radius: 50%;\n",
              "      cursor: pointer;\n",
              "      display: none;\n",
              "      fill: #1967D2;\n",
              "      height: 32px;\n",
              "      padding: 0 0 0 0;\n",
              "      width: 32px;\n",
              "    }\n",
              "\n",
              "    .colab-df-convert:hover {\n",
              "      background-color: #E2EBFA;\n",
              "      box-shadow: 0px 1px 2px rgba(60, 64, 67, 0.3), 0px 1px 3px 1px rgba(60, 64, 67, 0.15);\n",
              "      fill: #174EA6;\n",
              "    }\n",
              "\n",
              "    [theme=dark] .colab-df-convert {\n",
              "      background-color: #3B4455;\n",
              "      fill: #D2E3FC;\n",
              "    }\n",
              "\n",
              "    [theme=dark] .colab-df-convert:hover {\n",
              "      background-color: #434B5C;\n",
              "      box-shadow: 0px 1px 3px 1px rgba(0, 0, 0, 0.15);\n",
              "      filter: drop-shadow(0px 1px 2px rgba(0, 0, 0, 0.3));\n",
              "      fill: #FFFFFF;\n",
              "    }\n",
              "  </style>\n",
              "\n",
              "      <script>\n",
              "        const buttonEl =\n",
              "          document.querySelector('#df-c3411730-b2db-4fb5-a494-e1f3b9f3c2e3 button.colab-df-convert');\n",
              "        buttonEl.style.display =\n",
              "          google.colab.kernel.accessAllowed ? 'block' : 'none';\n",
              "\n",
              "        async function convertToInteractive(key) {\n",
              "          const element = document.querySelector('#df-c3411730-b2db-4fb5-a494-e1f3b9f3c2e3');\n",
              "          const dataTable =\n",
              "            await google.colab.kernel.invokeFunction('convertToInteractive',\n",
              "                                                     [key], {});\n",
              "          if (!dataTable) return;\n",
              "\n",
              "          const docLinkHtml = 'Like what you see? Visit the ' +\n",
              "            '<a target=\"_blank\" href=https://colab.research.google.com/notebooks/data_table.ipynb>data table notebook</a>'\n",
              "            + ' to learn more about interactive tables.';\n",
              "          element.innerHTML = '';\n",
              "          dataTable['output_type'] = 'display_data';\n",
              "          await google.colab.output.renderOutput(dataTable, element);\n",
              "          const docLink = document.createElement('div');\n",
              "          docLink.innerHTML = docLinkHtml;\n",
              "          element.appendChild(docLink);\n",
              "        }\n",
              "      </script>\n",
              "    </div>\n",
              "  </div>\n",
              "  "
            ]
          },
          "metadata": {},
          "execution_count": 193
        }
      ]
    },
    {
      "cell_type": "code",
      "source": [
        "def showQnt(data,color,extraFunctions=[]):\n",
        "  fig, ax = plt.subplots()\n",
        "  for i in extraFunctions:\n",
        "    i(fig,ax)\n",
        "  amostra = list(map( lambda x: int(x)+1 , data['quantidade'].values[:50]))\n",
        "  print(amostra)\n",
        "  colors = sns.color_palette(color,np.max(amostra))\n",
        "  bar_colors = list(map(getCorDaIdeologia,data.index[:25]))\n",
        "\n",
        "  ax.bar( \n",
        "      data.index[:25], \n",
        "      data['quantidade'][:25],\n",
        "      color=bar_colors[:25]\n",
        "       )\n",
        "  fig.set_size_inches(13,8)\n",
        "  ax.legend()\n",
        "  plt.rcParams.update({'font.size': 15})\n",
        "  plt.xticks(rotation = 90)\n",
        "  fig.patch.set_facecolor('xkcd:white')\n",
        "  plt.show()\n",
        "\n",
        "showQnt(getDataByUf('rr','Vereador'),'viridis')"
      ],
      "metadata": {
        "id": "5Q15THUDisii",
        "outputId": "6b5dd2f6-b7cc-4e81-8b82-5a2bebea0aa6",
        "colab": {
          "base_uri": "https://localhost:8080/",
          "height": 667
        }
      },
      "execution_count": 194,
      "outputs": [
        {
          "output_type": "stream",
          "name": "stderr",
          "text": [
            "WARNING:matplotlib.legend:No handles with labels found to put in legend.\n"
          ]
        },
        {
          "output_type": "stream",
          "name": "stdout",
          "text": [
            "[31366, 30815, 24418, 14424, 11695, 11167, 10850, 10359, 10024, 9482, 9190, 8574, 7986, 7845, 7445, 6861, 6074, 5956, 4911, 4625, 4400, 3727, 2301, 2300, 1021, 759, 639, 37]\n",
            "errou\n"
          ]
        },
        {
          "output_type": "display_data",
          "data": {
            "text/plain": [
              "<Figure size 936x576 with 1 Axes>"
            ],
            "image/png": "[encoded data removed]"
          },
          "metadata": {}
        }
      ]
    },
    {
      "cell_type": "code",
      "source": [
        "showQnt(getDataByUf('rr','Prefeito'),'viridis')"
      ],
      "metadata": {
        "id": "Z7Li1oA2iuJg",
        "outputId": "49f246a0-e39b-432d-ac25-d1de528a5e84",
        "colab": {
          "base_uri": "https://localhost:8080/",
          "height": 650
        }
      },
      "execution_count": 195,
      "outputs": [
        {
          "output_type": "stream",
          "name": "stdout",
          "text": [
            "[88174, 39654, 18153, 17842, 15521, 14960, 13559, 13452, 11732, 8304, 5022, 2728, 2439, 1967, 1487, 1131, 972, 584, 411]\n"
          ]
        },
        {
          "output_type": "stream",
          "name": "stderr",
          "text": [
            "WARNING:matplotlib.legend:No handles with labels found to put in legend.\n"
          ]
        },
        {
          "output_type": "display_data",
          "data": {
            "text/plain": [
              "<Figure size 936x576 with 1 Axes>"
            ],
            "image/png": "[encoded data removed]"
          },
          "metadata": {}
        }
      ]
    },
    {
      "cell_type": "code",
      "source": [
        "showQnt(getDataByUf('pi','Vereador'),'magma_r')"
      ],
      "metadata": {
        "id": "HrTar65grXwQ",
        "outputId": "414749a4-75cb-46e9-eba6-3c8b59e1cc73",
        "colab": {
          "base_uri": "https://localhost:8080/",
          "height": 667
        }
      },
      "execution_count": 196,
      "outputs": [
        {
          "output_type": "stream",
          "name": "stdout",
          "text": [
            "[395854, 255444, 247063, 236915, 130473, 97937, 81162, 55031, 54805, 52222, 47100, 44319, 34671, 21633, 20831, 15093, 14448, 12233, 11574, 9969, 9230, 8769, 5149, 4739, 3952, 2382, 1751, 811, 246, 196]\n"
          ]
        },
        {
          "output_type": "stream",
          "name": "stderr",
          "text": [
            "WARNING:matplotlib.legend:No handles with labels found to put in legend.\n"
          ]
        },
        {
          "output_type": "stream",
          "name": "stdout",
          "text": [
            "errou\n"
          ]
        },
        {
          "output_type": "display_data",
          "data": {
            "text/plain": [
              "<Figure size 936x576 with 1 Axes>"
            ],
            "image/png": "[encoded data removed]"
          },
          "metadata": {}
        }
      ]
    },
    {
      "cell_type": "code",
      "source": [
        "showQnt(getDataByUf('pi','Prefeito'),'magma_r')"
      ],
      "metadata": {
        "id": "EmefG46Esfki",
        "outputId": "b3adb0f1-441d-4fef-c04f-7811627c2621",
        "colab": {
          "base_uri": "https://localhost:8080/",
          "height": 684
        }
      },
      "execution_count": 197,
      "outputs": [
        {
          "output_type": "stream",
          "name": "stdout",
          "text": [
            "[427997, 388136, 264267, 246322, 131233, 101000, 94938, 73456, 57510, 51067, 31333, 20279, 13046, 9240, 7829, 7143, 4146, 3775, 3268, 3238, 2953, 2737, 590, 458, 372, 331, 160, 129]\n"
          ]
        },
        {
          "output_type": "stream",
          "name": "stderr",
          "text": [
            "WARNING:matplotlib.legend:No handles with labels found to put in legend.\n"
          ]
        },
        {
          "output_type": "stream",
          "name": "stdout",
          "text": [
            "errou\n",
            "errou\n"
          ]
        },
        {
          "output_type": "display_data",
          "data": {
            "text/plain": [
              "<Figure size 936x576 with 1 Axes>"
            ],
            "image/png": "[encoded data removed]"
          },
          "metadata": {}
        }
      ]
    },
    {
      "cell_type": "code",
      "source": [],
      "metadata": {
        "id": "DgPcDx4tLw1a"
      },
      "execution_count": 197,
      "outputs": []
    }
  ]
}