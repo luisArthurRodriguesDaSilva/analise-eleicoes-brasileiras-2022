{
  "cells": [
    {
      "cell_type": "markdown",
      "metadata": {
        "id": "view-in-github",
        "colab_type": "text"
      },
      "source": [
        "<a href=\"https://colab.research.google.com/github/luisArthurRodriguesDaSilva/estudo-dados-eleicoes/blob/master/arquivos/reunindoOsDados.ipynb\" target=\"_parent\"><img src=\"https://colab.research.google.com/assets/colab-badge.svg\" alt=\"Open In Colab\"/></a>"
      ]
    },
    {
      "cell_type": "markdown",
      "metadata": {
        "id": "y9BYZfDKZvg9"
      },
      "source": [
        "# 1 | importações de bibliotecas e recursos"
      ]
    },
    {
      "cell_type": "code",
      "execution_count": null,
      "metadata": {
        "id": "f5kfFEeuRmgH"
      },
      "outputs": [],
      "source": [
        "import pandas as pd\n",
        "import numpy as np\n",
        "import requests\n",
        "import pprint\n",
        "from matplotlib import pyplot as plt\n",
        "import seaborn as sns\n",
        "import cmath\n",
        "import threading\n",
        "import time\n",
        "import json\n",
        "import statistics"
      ]
    },
    {
      "cell_type": "markdown",
      "metadata": {
        "id": "KPL-MgI_aEyI"
      },
      "source": [
        "# 2 | funções para fazer as devidas requisições na api"
      ]
    },
    {
      "cell_type": "code",
      "execution_count": null,
      "metadata": {
        "id": "9JLw0krmmiaD"
      },
      "outputs": [],
      "source": [
        "def getDeputadoEstadualUrl(uf):\n",
        "  return f'https://resultados.tse.jus.br/oficial/ele2022/546/dados-simplificados/{uf}/{uf}-c0007-e000546-r.json'\n",
        "\n",
        "def getPresidentUrl(uf):\n",
        "  return f'https://resultados.tse.jus.br/oficial/ele2022/544/dados-simplificados/{uf}/{uf}-c0001-e000544-r.json'\n",
        "\n",
        "def getGovernadorUrl(uf):\n",
        "  return f'https://resultados.tse.jus.br/oficial/ele2022/546/dados-simplificados/{uf}/{uf}-c0003-e000546-r.json'\n",
        "\n",
        "def getDeputadoFederalUrl(uf):\n",
        "  return f'https://resultados.tse.jus.br/oficial/ele2022/546/dados-simplificados/{uf}/{uf}-c0006-e000546-r.json'\n",
        "\n",
        "def getSenadorUrl(uf):\n",
        "  return f'https://resultados.tse.jus.br/oficial/ele2022/546/dados-simplificados/{uf}/{uf}-c0005-e000546-r.json'\n",
        "\n",
        "gets= [getPresidentUrl, getSenadorUrl, getDeputadoFederalUrl, getDeputadoEstadualUrl, getGovernadorUrl]\n",
        "categoryKeys= ['Presidente', 'Senador', 'DeputadoFederal', 'DeputadoEstadual', 'Governador']\n",
        "brasil_ufs = ['ac','al','am','ap','ba','ce','df','es','go','ma','mt','ms','mg','pa','pb','pr','pe','pi','rj','rn','ro','rs','rr','sc','se','sp','to']\n",
        "\n",
        "LULA_TAG          = 'LULA' \n",
        "BOLSONARO_TAG     = 'JAIR BOLSONARO' \n",
        "CIRO_TAG          = 'CIRO GOMES' \n",
        "TEBET_TAG         = 'SIMONE TEBET' \n",
        "SORAYA_TAG        = 'SORAYA THRONICKE' \n",
        "DAVILA_TAG        =  \"FELIPE D'AVILA\"\n",
        "PADRE_TAG         = 'PADRE KELMON' \n",
        "SOFIA_MANZANO_TAG = 'SOFIA MANZANO' \n",
        "LEO_PERICLES_TAG  ='LÉO PÉRICLES'\n",
        "VERA_TAG          = 'VERA' \n",
        "EYMAEL_TAG        = 'CONSTITUINTE EYMAEL'\n",
        "candidatesTags    = [LULA_TAG, BOLSONARO_TAG, CIRO_TAG, TEBET_TAG, SORAYA_TAG, DAVILA_TAG, PADRE_TAG, SOFIA_MANZANO_TAG, LEO_PERICLES_TAG, VERA_TAG, EYMAEL_TAG]\n",
        "candidatesColors   =['red', 'green', 'blue','brown', 'green', 'blue','red', 'green', 'blue','green','yellow']\n",
        "politicalColors = {}\n",
        "for i, tag in enumerate(candidatesTags):\n",
        "  politicalColors[tag] = candidatesColors[i]"
      ]
    },
    {
      "cell_type": "markdown",
      "source": [
        "# 3 | Funções para a coleta de **dados**"
      ],
      "metadata": {
        "id": "PAC0GjXrX28d"
      }
    },
    {
      "cell_type": "code",
      "source": [
        "arq =r'/content/drive/MyDrive/completeUfsNames.json'\n",
        "with open(arq,'r') as f:\n",
        "  completeUfsNames = json.load(f)[0]"
      ],
      "metadata": {
        "id": "CqsjU0MeBG7Q"
      },
      "execution_count": null,
      "outputs": []
    },
    {
      "cell_type": "code",
      "source": [
        "def getPopulationByUf(uf,info = 'População (2021)'):\n",
        "  url = 'https://pt.wikipedia.org/wiki/Lista_de_unidades_federativas_do_Brasil_por_popula%C3%A7%C3%A3o'\n",
        "  table = pd.read_html(url , match='Posição')\n",
        "  ufs_population_data = table[0]\n",
        "  region_population_data = table[1]\n",
        "  ufName = completeUfsNames[uf.upper()]\n",
        "  keysArray = list(ufs_population_data.keys()[0:].array)\n",
        "  positionOfInfo = keysArray.index(info)\n",
        "  usedData = ufs_population_data.values\n",
        "  try:\n",
        "    filteredUsedData = list(filter( lambda x: x[1] == ufName, usedData))[0]\n",
        "  except Exception as e:\n",
        "    return 'não encontrado'\n",
        "  requiredInfo = str(filteredUsedData[positionOfInfo])\n",
        "  return int(requiredInfo.replace(u'\\xa0', ''))\n",
        "\n",
        "def getPibByUf(uf, info= 'PIB em 2019 (1.000.000 R$)'):\n",
        "  url = 'https://www.ibge.gov.br/explica/pib.php'\n",
        "  table = pd.read_html(url , match='Unidades da Federação')\n",
        "  pibsData = table[0]\n",
        "  ufName = completeUfsNames[uf.upper()]\n",
        "  try:\n",
        "    filteredUsedData = list(filter(lambda x: x[0] == ufName ,pibsData.values))[0][1]\n",
        "  except Exception as e:\n",
        "    return 'não encontrado'\n",
        "  requiredInfo = str(filteredUsedData.replace('.',''))\n",
        "  return int(requiredInfo)\n",
        "\n",
        "def getPibPerCapta(uf):\n",
        "  return float(abs(getPibByUf(uf) / getPopulationByUf(uf)))"
      ],
      "metadata": {
        "id": "Y67mB2hd_m1I"
      },
      "execution_count": null,
      "outputs": []
    },
    {
      "cell_type": "code",
      "execution_count": null,
      "metadata": {
        "id": "t4MPBrnuhZ2x"
      },
      "outputs": [],
      "source": [
        "def takeData(url):\n",
        "  re=requests.get(url).json()\n",
        "  candidatos = re['cand']\n",
        "\n",
        "  df=pd.DataFrame(candidatos)\n",
        "  df=df[['nm','n','dvt','vap','pvap']]\n",
        "  df.rename(columns={'nm':'Nome do Candidato',\n",
        "                  'n':'Numero do Candidato',\n",
        "                  'dvt':'Validade',\n",
        "                  'vap':'Votos',\n",
        "                  'pvap':'(%) Votos'}, inplace=True)\n",
        "  \n",
        "  df['(%) Votos']=df['(%) Votos'].str.replace(',','.')\n",
        "  df['(%) Votos']=df['(%) Votos'].astype(float)\n",
        "  df['Votos']=df['Votos'].astype(int)\n",
        "  df['Nome do Candidato']=df['Nome do Candidato'].str.replace('D&apos;',\"D'\")\n",
        "  df=df.sort_values(by='Votos', ascending=False)\n",
        "  return(df)"
      ]
    },
    {
      "cell_type": "code",
      "execution_count": null,
      "metadata": {
        "id": "6xvRgkpFU81R"
      },
      "outputs": [],
      "source": [
        "def getAllDataByUf(uf):\n",
        "  info = {}\n",
        "  for index, category in enumerate(categoryKeys):\n",
        "    try:\n",
        "      info[category] = takeData(gets[index](uf))\n",
        "      info['populacao'] = getPopulationByUf(uf) #deve sair do loop pra n ser sobrescrito varias vezes\n",
        "      info['pib'] = getPibByUf(uf)\n",
        "      info['pib per-capta'] = getPibPerCapta(uf)\n",
        "    except:\n",
        "      if uf == 'df':\n",
        "        info[category] = 'df não tem prefeito'\n",
        "      else:\n",
        "        info[category] = 'this is brasil'\n",
        "  return info"
      ]
    },
    {
      "cell_type": "markdown",
      "metadata": {
        "id": "NFNmKIPVaUYS"
      },
      "source": [
        "# 4 | Organização dos dados através do electionsData\n",
        "### ele é um objeto mais organizado contendo todas as informações separadas por estado"
      ]
    },
    {
      "cell_type": "code",
      "execution_count": null,
      "metadata": {
        "id": "6Y0LYOHz5aa0"
      },
      "outputs": [],
      "source": [
        "electionsData = {}\n",
        "electionsData['br'] = getAllDataByUf('br')\n",
        "\n",
        "def atribute(uf):\n",
        "  electionsData[uf] = getAllDataByUf(uf)\n",
        "\n",
        "for i, uf in  enumerate(brasil_ufs):\n",
        "  threading.Thread(target=atribute, args=(uf,)).start()\n",
        "time.sleep(5)"
      ]
    }
  ],
  "metadata": {
    "colab": {
      "provenance": [],
      "mount_file_id": "https://github.com/luisArthurRodriguesDaSilva/estudo-dados-eleicoes/blob/master/apura%C3%A7%C3%A3o.ipynb",
      "authorship_tag": "ABX9TyP0dpxsWX7z7IaIPo5HjNgX",
      "include_colab_link": true
    },
    "kernelspec": {
      "display_name": "Python 3.8.10 64-bit",
      "language": "python",
      "name": "python3"
    },
    "language_info": {
      "name": "python",
      "version": "3.8.10"
    },
    "vscode": {
      "interpreter": {
        "hash": "916dbcbb3f70747c44a77c7bcd40155683ae19c65e1c03b4aa3499c5328201f1"
      }
    }
  },
  "nbformat": 4,
  "nbformat_minor": 0
}