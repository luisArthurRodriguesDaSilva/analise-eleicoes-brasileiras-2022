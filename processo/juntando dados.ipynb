{
 "cells": [
  {
   "cell_type": "markdown",
   "metadata": {},
   "source": [
    "# criando csv principal"
   ]
  },
  {
   "cell_type": "code",
   "execution_count": 1,
   "metadata": {},
   "outputs": [],
   "source": [
    "import pandas as pd\n",
    "import numpy as np\n",
    "from helpers import BRASIL_UFS ,get_uf_df"
   ]
  },
  {
   "cell_type": "code",
   "execution_count": null,
   "metadata": {},
   "outputs": [],
   "source": [
    "dfs = [get_uf_df(uf) for uf in BRASIL_UFS]"
   ]
  },
  {
   "cell_type": "code",
   "execution_count": 6,
   "metadata": {},
   "outputs": [],
   "source": [
    "big_df = pd.concat(dfs)"
   ]
  },
  {
   "cell_type": "code",
   "execution_count": null,
   "metadata": {},
   "outputs": [],
   "source": [
    "print(len(big_df))\n",
    "big_df.head()"
   ]
  },
  {
   "cell_type": "code",
   "execution_count": 9,
   "metadata": {},
   "outputs": [
    {
     "name": "stderr",
     "output_type": "stream",
     "text": [
      "/tmp/ipykernel_9694/22180300.py:17: SettingWithCopyWarning: \n",
      "A value is trying to be set on a copy of a slice from a DataFrame.\n",
      "Try using .loc[row_indexer,col_indexer] = value instead\n",
      "\n",
      "See the caveats in the documentation: https://pandas.pydata.org/pandas-docs/stable/user_guide/indexing.html#returning-a-view-versus-a-copy\n",
      "  ndf[\"PP_LULA\"] = ndf.apply(lambda x: get_pp_lula(x, df)[0], axis=1)\n",
      "/tmp/ipykernel_9694/22180300.py:18: SettingWithCopyWarning: \n",
      "A value is trying to be set on a copy of a slice from a DataFrame.\n",
      "Try using .loc[row_indexer,col_indexer] = value instead\n",
      "\n",
      "See the caveats in the documentation: https://pandas.pydata.org/pandas-docs/stable/user_guide/indexing.html#returning-a-view-versus-a-copy\n",
      "  ndf[\"QT_VOTOS\"] = ndf.apply(lambda x: get_pp_lula(x, df)[1], axis=1)\n"
     ]
    },
    {
     "data": {
      "text/html": [
       "<div>\n",
       "<style scoped>\n",
       "    .dataframe tbody tr th:only-of-type {\n",
       "        vertical-align: middle;\n",
       "    }\n",
       "\n",
       "    .dataframe tbody tr th {\n",
       "        vertical-align: top;\n",
       "    }\n",
       "\n",
       "    .dataframe thead th {\n",
       "        text-align: right;\n",
       "    }\n",
       "</style>\n",
       "<table border=\"1\" class=\"dataframe\">\n",
       "  <thead>\n",
       "    <tr style=\"text-align: right;\">\n",
       "      <th></th>\n",
       "      <th>SG_UF</th>\n",
       "      <th>NM_MUNICIPIO</th>\n",
       "      <th>CD_MUNICIPIO</th>\n",
       "      <th>QT_VOTOS</th>\n",
       "      <th>PP_LULA</th>\n",
       "    </tr>\n",
       "  </thead>\n",
       "  <tbody>\n",
       "    <tr>\n",
       "      <th>0</th>\n",
       "      <td>RO</td>\n",
       "      <td>GUAJARÁ-MIRIM</td>\n",
       "      <td>19</td>\n",
       "      <td>19839</td>\n",
       "      <td>0.344675</td>\n",
       "    </tr>\n",
       "    <tr>\n",
       "      <th>301</th>\n",
       "      <td>RO</td>\n",
       "      <td>NOVA MAMORÉ</td>\n",
       "      <td>434</td>\n",
       "      <td>13123</td>\n",
       "      <td>0.220757</td>\n",
       "    </tr>\n",
       "    <tr>\n",
       "      <th>1250</th>\n",
       "      <td>RO</td>\n",
       "      <td>PORTO VELHO</td>\n",
       "      <td>35</td>\n",
       "      <td>261935</td>\n",
       "      <td>0.353660</td>\n",
       "    </tr>\n",
       "    <tr>\n",
       "      <th>3607</th>\n",
       "      <td>RO</td>\n",
       "      <td>ITAPUÃ DO OESTE</td>\n",
       "      <td>493</td>\n",
       "      <td>4378</td>\n",
       "      <td>0.375057</td>\n",
       "    </tr>\n",
       "    <tr>\n",
       "      <th>4163</th>\n",
       "      <td>RO</td>\n",
       "      <td>JI-PARANÁ</td>\n",
       "      <td>51</td>\n",
       "      <td>68126</td>\n",
       "      <td>0.245295</td>\n",
       "    </tr>\n",
       "    <tr>\n",
       "      <th>...</th>\n",
       "      <td>...</td>\n",
       "      <td>...</td>\n",
       "      <td>...</td>\n",
       "      <td>...</td>\n",
       "      <td>...</td>\n",
       "    </tr>\n",
       "    <tr>\n",
       "      <th>51990</th>\n",
       "      <td>GO</td>\n",
       "      <td>SÃO JOÃO D'ALIANÇA</td>\n",
       "      <td>95974</td>\n",
       "      <td>5305</td>\n",
       "      <td>0.509896</td>\n",
       "    </tr>\n",
       "    <tr>\n",
       "      <th>52093</th>\n",
       "      <td>GO</td>\n",
       "      <td>COLINAS DO SUL</td>\n",
       "      <td>92126</td>\n",
       "      <td>2314</td>\n",
       "      <td>0.671132</td>\n",
       "    </tr>\n",
       "    <tr>\n",
       "      <th>52415</th>\n",
       "      <td>GO</td>\n",
       "      <td>OURO VERDE DE GOIÁS</td>\n",
       "      <td>95052</td>\n",
       "      <td>2912</td>\n",
       "      <td>0.406593</td>\n",
       "    </tr>\n",
       "    <tr>\n",
       "      <th>53009</th>\n",
       "      <td>GO</td>\n",
       "      <td>CAMPO LIMPO DE GOIÁS</td>\n",
       "      <td>93580</td>\n",
       "      <td>4701</td>\n",
       "      <td>0.359073</td>\n",
       "    </tr>\n",
       "    <tr>\n",
       "      <th>0</th>\n",
       "      <td>DF</td>\n",
       "      <td>BRASÍLIA</td>\n",
       "      <td>97012</td>\n",
       "      <td>1770626</td>\n",
       "      <td>0.411885</td>\n",
       "    </tr>\n",
       "  </tbody>\n",
       "</table>\n",
       "<p>5297 rows × 5 columns</p>\n",
       "</div>"
      ],
      "text/plain": [
       "      SG_UF          NM_MUNICIPIO  CD_MUNICIPIO  QT_VOTOS   PP_LULA\n",
       "0        RO         GUAJARÁ-MIRIM            19     19839  0.344675\n",
       "301      RO           NOVA MAMORÉ           434     13123  0.220757\n",
       "1250     RO           PORTO VELHO            35    261935  0.353660\n",
       "3607     RO       ITAPUÃ DO OESTE           493      4378  0.375057\n",
       "4163     RO             JI-PARANÁ            51     68126  0.245295\n",
       "...     ...                   ...           ...       ...       ...\n",
       "51990    GO    SÃO JOÃO D'ALIANÇA         95974      5305  0.509896\n",
       "52093    GO        COLINAS DO SUL         92126      2314  0.671132\n",
       "52415    GO   OURO VERDE DE GOIÁS         95052      2912  0.406593\n",
       "53009    GO  CAMPO LIMPO DE GOIÁS         93580      4701  0.359073\n",
       "0        DF              BRASÍLIA         97012   1770626  0.411885\n",
       "\n",
       "[5297 rows x 5 columns]"
      ]
     },
     "execution_count": 9,
     "metadata": {},
     "output_type": "execute_result"
    }
   ],
   "source": [
    "def get_pp_lula(x,df):\n",
    "    try:\n",
    "        votos_por_municipio = df.groupby(by=[\"NM_MUNICIPIO\", \"NR_PARTIDO\"]).agg(\n",
    "            quantidade=(\"QT_VOTOS\", \"sum\")\n",
    "        )\n",
    "        votos_lula = votos_por_municipio[\"quantidade\"][x[\"NM_MUNICIPIO\"]][13]\n",
    "        votos_bolsonaro = votos_por_municipio[\"quantidade\"][x[\"NM_MUNICIPIO\"]][22]\n",
    "        total_votos_validos = votos_lula + votos_bolsonaro\n",
    "        return votos_lula / total_votos_validos , total_votos_validos\n",
    "    except:\n",
    "        print(x[\"NM_MUNICIPIO\"], \"não encontrado no dataframe de votos por municipio.\")\n",
    "        return 0.5\n",
    "\n",
    "\n",
    "def get_pp_municipio(df):\n",
    "    ndf = df.drop_duplicates(subset=[\"NM_MUNICIPIO\"])\n",
    "    ndf[\"PP_LULA\"] = ndf.apply(lambda x: get_pp_lula(x, df)[0], axis=1)\n",
    "    ndf[\"QT_VOTOS\"] = ndf.apply(lambda x: get_pp_lula(x, df)[1], axis=1)\n",
    "    return ndf.drop('NR_PARTIDO', axis=1)\n",
    "\n",
    "pp_df = get_pp_municipio(big_df)\n",
    "pp_df"
   ]
  },
  {
   "cell_type": "code",
   "execution_count": null,
   "metadata": {},
   "outputs": [],
   "source": [
    "pp_df.to_csv('pp_lula_by_municipio.csv', index=False)"
   ]
  },
  {
   "cell_type": "markdown",
   "metadata": {},
   "source": [
    "## Salvamento do csv"
   ]
  },
  {
   "cell_type": "code",
   "execution_count": null,
   "metadata": {},
   "outputs": [],
   "source": [
    "pp_df = pd.read_csv('pp_lula_by_municipio.csv')"
   ]
  },
  {
   "cell_type": "markdown",
   "metadata": {},
   "source": [
    "# Dados por região"
   ]
  },
  {
   "cell_type": "code",
   "execution_count": 19,
   "metadata": {},
   "outputs": [
    {
     "data": {
      "text/plain": [
       "(5297, 27)"
      ]
     },
     "execution_count": 19,
     "metadata": {},
     "output_type": "execute_result"
    }
   ],
   "source": [
    "pp_df = pd.read_csv('pp_lula_by_municipio.csv')\n",
    "regioes = pd.read_csv('regioes.csv')\n",
    "len(pp_df), len(regioes)"
   ]
  },
  {
   "cell_type": "code",
   "execution_count": 20,
   "metadata": {},
   "outputs": [
    {
     "name": "stdout",
     "output_type": "stream",
     "text": [
      "5297\n"
     ]
    },
    {
     "data": {
      "text/html": [
       "<div>\n",
       "<style scoped>\n",
       "    .dataframe tbody tr th:only-of-type {\n",
       "        vertical-align: middle;\n",
       "    }\n",
       "\n",
       "    .dataframe tbody tr th {\n",
       "        vertical-align: top;\n",
       "    }\n",
       "\n",
       "    .dataframe thead th {\n",
       "        text-align: right;\n",
       "    }\n",
       "</style>\n",
       "<table border=\"1\" class=\"dataframe\">\n",
       "  <thead>\n",
       "    <tr style=\"text-align: right;\">\n",
       "      <th></th>\n",
       "      <th>SG_UF</th>\n",
       "      <th>NM_MUNICIPIO</th>\n",
       "      <th>CD_MUNICIPIO</th>\n",
       "      <th>QT_VOTOS</th>\n",
       "      <th>PP_LULA</th>\n",
       "      <th>REGIAO</th>\n",
       "    </tr>\n",
       "  </thead>\n",
       "  <tbody>\n",
       "    <tr>\n",
       "      <th>0</th>\n",
       "      <td>RO</td>\n",
       "      <td>GUAJARÁ-MIRIM</td>\n",
       "      <td>19</td>\n",
       "      <td>19839</td>\n",
       "      <td>0.344675</td>\n",
       "      <td>Norte</td>\n",
       "    </tr>\n",
       "    <tr>\n",
       "      <th>1</th>\n",
       "      <td>RO</td>\n",
       "      <td>NOVA MAMORÉ</td>\n",
       "      <td>434</td>\n",
       "      <td>13123</td>\n",
       "      <td>0.220757</td>\n",
       "      <td>Norte</td>\n",
       "    </tr>\n",
       "    <tr>\n",
       "      <th>2</th>\n",
       "      <td>RO</td>\n",
       "      <td>PORTO VELHO</td>\n",
       "      <td>35</td>\n",
       "      <td>261935</td>\n",
       "      <td>0.353660</td>\n",
       "      <td>Norte</td>\n",
       "    </tr>\n",
       "    <tr>\n",
       "      <th>3</th>\n",
       "      <td>RO</td>\n",
       "      <td>ITAPUÃ DO OESTE</td>\n",
       "      <td>493</td>\n",
       "      <td>4378</td>\n",
       "      <td>0.375057</td>\n",
       "      <td>Norte</td>\n",
       "    </tr>\n",
       "    <tr>\n",
       "      <th>4</th>\n",
       "      <td>RO</td>\n",
       "      <td>JI-PARANÁ</td>\n",
       "      <td>51</td>\n",
       "      <td>68126</td>\n",
       "      <td>0.245295</td>\n",
       "      <td>Norte</td>\n",
       "    </tr>\n",
       "    <tr>\n",
       "      <th>...</th>\n",
       "      <td>...</td>\n",
       "      <td>...</td>\n",
       "      <td>...</td>\n",
       "      <td>...</td>\n",
       "      <td>...</td>\n",
       "      <td>...</td>\n",
       "    </tr>\n",
       "    <tr>\n",
       "      <th>5292</th>\n",
       "      <td>GO</td>\n",
       "      <td>SÃO JOÃO D'ALIANÇA</td>\n",
       "      <td>95974</td>\n",
       "      <td>5305</td>\n",
       "      <td>0.509896</td>\n",
       "      <td>Centro-Oeste</td>\n",
       "    </tr>\n",
       "    <tr>\n",
       "      <th>5293</th>\n",
       "      <td>GO</td>\n",
       "      <td>COLINAS DO SUL</td>\n",
       "      <td>92126</td>\n",
       "      <td>2314</td>\n",
       "      <td>0.671132</td>\n",
       "      <td>Centro-Oeste</td>\n",
       "    </tr>\n",
       "    <tr>\n",
       "      <th>5294</th>\n",
       "      <td>GO</td>\n",
       "      <td>OURO VERDE DE GOIÁS</td>\n",
       "      <td>95052</td>\n",
       "      <td>2912</td>\n",
       "      <td>0.406593</td>\n",
       "      <td>Centro-Oeste</td>\n",
       "    </tr>\n",
       "    <tr>\n",
       "      <th>5295</th>\n",
       "      <td>GO</td>\n",
       "      <td>CAMPO LIMPO DE GOIÁS</td>\n",
       "      <td>93580</td>\n",
       "      <td>4701</td>\n",
       "      <td>0.359073</td>\n",
       "      <td>Centro-Oeste</td>\n",
       "    </tr>\n",
       "    <tr>\n",
       "      <th>5296</th>\n",
       "      <td>DF</td>\n",
       "      <td>BRASÍLIA</td>\n",
       "      <td>97012</td>\n",
       "      <td>1770626</td>\n",
       "      <td>0.411885</td>\n",
       "      <td>Centro-Oeste</td>\n",
       "    </tr>\n",
       "  </tbody>\n",
       "</table>\n",
       "<p>5297 rows × 6 columns</p>\n",
       "</div>"
      ],
      "text/plain": [
       "     SG_UF          NM_MUNICIPIO  CD_MUNICIPIO  QT_VOTOS   PP_LULA  \\\n",
       "0       RO         GUAJARÁ-MIRIM            19     19839  0.344675   \n",
       "1       RO           NOVA MAMORÉ           434     13123  0.220757   \n",
       "2       RO           PORTO VELHO            35    261935  0.353660   \n",
       "3       RO       ITAPUÃ DO OESTE           493      4378  0.375057   \n",
       "4       RO             JI-PARANÁ            51     68126  0.245295   \n",
       "...    ...                   ...           ...       ...       ...   \n",
       "5292    GO    SÃO JOÃO D'ALIANÇA         95974      5305  0.509896   \n",
       "5293    GO        COLINAS DO SUL         92126      2314  0.671132   \n",
       "5294    GO   OURO VERDE DE GOIÁS         95052      2912  0.406593   \n",
       "5295    GO  CAMPO LIMPO DE GOIÁS         93580      4701  0.359073   \n",
       "5296    DF              BRASÍLIA         97012   1770626  0.411885   \n",
       "\n",
       "            REGIAO  \n",
       "0            Norte  \n",
       "1            Norte  \n",
       "2            Norte  \n",
       "3            Norte  \n",
       "4            Norte  \n",
       "...            ...  \n",
       "5292  Centro-Oeste  \n",
       "5293  Centro-Oeste  \n",
       "5294  Centro-Oeste  \n",
       "5295  Centro-Oeste  \n",
       "5296  Centro-Oeste  \n",
       "\n",
       "[5297 rows x 6 columns]"
      ]
     },
     "execution_count": 20,
     "metadata": {},
     "output_type": "execute_result"
    }
   ],
   "source": [
    "com_regiao = pd.merge(pp_df, regioes, on='SG_UF', how='left')\n",
    "com_regiao"
   ]
  },
  {
   "cell_type": "markdown",
   "metadata": {},
   "source": [
    "# Adicionando informações ao dataframe"
   ]
  },
  {
   "cell_type": "markdown",
   "metadata": {},
   "source": [
    "## PIB"
   ]
  },
  {
   "cell_type": "code",
   "execution_count": null,
   "metadata": {},
   "outputs": [],
   "source": []
  },
  {
   "cell_type": "code",
   "execution_count": 21,
   "metadata": {},
   "outputs": [
    {
     "data": {
      "text/html": [
       "<div>\n",
       "<style scoped>\n",
       "    .dataframe tbody tr th:only-of-type {\n",
       "        vertical-align: middle;\n",
       "    }\n",
       "\n",
       "    .dataframe tbody tr th {\n",
       "        vertical-align: top;\n",
       "    }\n",
       "\n",
       "    .dataframe thead th {\n",
       "        text-align: right;\n",
       "    }\n",
       "</style>\n",
       "<table border=\"1\" class=\"dataframe\">\n",
       "  <thead>\n",
       "    <tr style=\"text-align: right;\">\n",
       "      <th></th>\n",
       "      <th>Município</th>\n",
       "      <th>pib</th>\n",
       "    </tr>\n",
       "  </thead>\n",
       "  <tbody>\n",
       "    <tr>\n",
       "      <th>0</th>\n",
       "      <td>SÃO PAULO</td>\n",
       "      <td>828 980 607</td>\n",
       "    </tr>\n",
       "    <tr>\n",
       "      <th>1</th>\n",
       "      <td>RIO DE JANEIRO</td>\n",
       "      <td>359 634 752</td>\n",
       "    </tr>\n",
       "    <tr>\n",
       "      <th>2</th>\n",
       "      <td>BRASÍLIA</td>\n",
       "      <td>286 943 782</td>\n",
       "    </tr>\n",
       "    <tr>\n",
       "      <th>3</th>\n",
       "      <td>BELO HORIZONTE</td>\n",
       "      <td>105 829 675</td>\n",
       "    </tr>\n",
       "    <tr>\n",
       "      <th>4</th>\n",
       "      <td>MANAUS</td>\n",
       "      <td>103 281 436</td>\n",
       "    </tr>\n",
       "  </tbody>\n",
       "</table>\n",
       "</div>"
      ],
      "text/plain": [
       "        Município          pib\n",
       "0       SÃO PAULO  828 980 607\n",
       "1  RIO DE JANEIRO  359 634 752\n",
       "2        BRASÍLIA  286 943 782\n",
       "3  BELO HORIZONTE  105 829 675\n",
       "4          MANAUS  103 281 436"
      ]
     },
     "execution_count": 21,
     "metadata": {},
     "output_type": "execute_result"
    }
   ],
   "source": [
    "pib_df = pd.read_html('https://pt.wikipedia.org/wiki/Lista_de_munic%C3%ADpios_do_Brasil_por_PIB')[0]\n",
    "pib_df = pib_df.rename(columns={\"Produto Interno Bruto (em R$ 1 000)\":\"pib\"})\n",
    "pib_df['Município'] = pib_df['Município'].apply(str.upper)\n",
    "pib_df = pib_df[['Município','pib']]\n",
    "pib_df.head()"
   ]
  },
  {
   "cell_type": "code",
   "execution_count": 22,
   "metadata": {},
   "outputs": [
    {
     "data": {
      "text/html": [
       "<div>\n",
       "<style scoped>\n",
       "    .dataframe tbody tr th:only-of-type {\n",
       "        vertical-align: middle;\n",
       "    }\n",
       "\n",
       "    .dataframe tbody tr th {\n",
       "        vertical-align: top;\n",
       "    }\n",
       "\n",
       "    .dataframe thead th {\n",
       "        text-align: right;\n",
       "    }\n",
       "</style>\n",
       "<table border=\"1\" class=\"dataframe\">\n",
       "  <thead>\n",
       "    <tr style=\"text-align: right;\">\n",
       "      <th></th>\n",
       "      <th>SG_UF</th>\n",
       "      <th>NM_MUNICIPIO</th>\n",
       "      <th>CD_MUNICIPIO</th>\n",
       "      <th>QT_VOTOS</th>\n",
       "      <th>PP_LULA</th>\n",
       "      <th>pib</th>\n",
       "    </tr>\n",
       "  </thead>\n",
       "  <tbody>\n",
       "    <tr>\n",
       "      <th>0</th>\n",
       "      <td>RO</td>\n",
       "      <td>GUAJARÁ-MIRIM</td>\n",
       "      <td>19</td>\n",
       "      <td>19839</td>\n",
       "      <td>0.344675</td>\n",
       "      <td>984 586</td>\n",
       "    </tr>\n",
       "    <tr>\n",
       "      <th>1</th>\n",
       "      <td>RO</td>\n",
       "      <td>NOVA MAMORÉ</td>\n",
       "      <td>434</td>\n",
       "      <td>13123</td>\n",
       "      <td>0.220757</td>\n",
       "      <td>601 910</td>\n",
       "    </tr>\n",
       "    <tr>\n",
       "      <th>2</th>\n",
       "      <td>RO</td>\n",
       "      <td>PORTO VELHO</td>\n",
       "      <td>35</td>\n",
       "      <td>261935</td>\n",
       "      <td>0.353660</td>\n",
       "      <td>19 448 762</td>\n",
       "    </tr>\n",
       "    <tr>\n",
       "      <th>3</th>\n",
       "      <td>RO</td>\n",
       "      <td>ITAPUÃ DO OESTE</td>\n",
       "      <td>493</td>\n",
       "      <td>4378</td>\n",
       "      <td>0.375057</td>\n",
       "      <td>192 783</td>\n",
       "    </tr>\n",
       "    <tr>\n",
       "      <th>4</th>\n",
       "      <td>RO</td>\n",
       "      <td>JI-PARANÁ</td>\n",
       "      <td>51</td>\n",
       "      <td>68126</td>\n",
       "      <td>0.245295</td>\n",
       "      <td>4 057 626</td>\n",
       "    </tr>\n",
       "  </tbody>\n",
       "</table>\n",
       "</div>"
      ],
      "text/plain": [
       "  SG_UF     NM_MUNICIPIO  CD_MUNICIPIO  QT_VOTOS   PP_LULA         pib\n",
       "0    RO    GUAJARÁ-MIRIM            19     19839  0.344675     984 586\n",
       "1    RO      NOVA MAMORÉ           434     13123  0.220757     601 910\n",
       "2    RO      PORTO VELHO            35    261935  0.353660  19 448 762\n",
       "3    RO  ITAPUÃ DO OESTE           493      4378  0.375057     192 783\n",
       "4    RO        JI-PARANÁ            51     68126  0.245295   4 057 626"
      ]
     },
     "execution_count": 22,
     "metadata": {},
     "output_type": "execute_result"
    }
   ],
   "source": [
    "from helpers import get_nearest\n",
    "pp_df = pd.read_csv('pp_lula_by_municipio.csv')\n",
    "\n",
    "def get_item_from_df(municipe,df,item):\n",
    "    try:\n",
    "        pib = df[df['Município'] == municipe][item].values[0]\n",
    "    except Exception as e:\n",
    "        try:\n",
    "            nearest = get_nearest(municipe,df['Município'])\n",
    "            pib = df[df['Município'] == nearest][item].values[0]\n",
    "        except Exception as e:\n",
    "            print(municipe,item)\n",
    "            return np.nan\n",
    "    return pib\n",
    "\n",
    "pp_df['pib'] = pp_df['NM_MUNICIPIO'].apply(lambda x: get_item_from_df(x,pib_df,'pib'))\n",
    "pp_df.head()"
   ]
  },
  {
   "cell_type": "markdown",
   "metadata": {},
   "source": [
    "### Salvamento"
   ]
  },
  {
   "cell_type": "code",
   "execution_count": 23,
   "metadata": {},
   "outputs": [],
   "source": [
    "pp_df.to_csv('pp_lula_by_municipio.csv', index=False)"
   ]
  },
  {
   "cell_type": "markdown",
   "metadata": {},
   "source": [
    "## Educação IDEB"
   ]
  },
  {
   "cell_type": "code",
   "execution_count": 1,
   "metadata": {},
   "outputs": [
    {
     "data": {
      "text/html": [
       "<div>\n",
       "<style scoped>\n",
       "    .dataframe tbody tr th:only-of-type {\n",
       "        vertical-align: middle;\n",
       "    }\n",
       "\n",
       "    .dataframe tbody tr th {\n",
       "        vertical-align: top;\n",
       "    }\n",
       "\n",
       "    .dataframe thead th {\n",
       "        text-align: right;\n",
       "    }\n",
       "</style>\n",
       "<table border=\"1\" class=\"dataframe\">\n",
       "  <thead>\n",
       "    <tr style=\"text-align: right;\">\n",
       "      <th></th>\n",
       "      <th>Unidade federativa</th>\n",
       "      <th>IDEB 2005</th>\n",
       "      <th>IDEB 2015</th>\n",
       "    </tr>\n",
       "  </thead>\n",
       "  <tbody>\n",
       "    <tr>\n",
       "      <th>0</th>\n",
       "      <td>São Paulo</td>\n",
       "      <td>3.6</td>\n",
       "      <td>4.2</td>\n",
       "    </tr>\n",
       "    <tr>\n",
       "      <th>1</th>\n",
       "      <td>Rio de Janeiro</td>\n",
       "      <td>3.3</td>\n",
       "      <td>4.0</td>\n",
       "    </tr>\n",
       "    <tr>\n",
       "      <th>2</th>\n",
       "      <td>Distrito Federal</td>\n",
       "      <td>3.6</td>\n",
       "      <td>4.0</td>\n",
       "    </tr>\n",
       "    <tr>\n",
       "      <th>3</th>\n",
       "      <td>Espírito Santo</td>\n",
       "      <td>3.8</td>\n",
       "      <td>4.0</td>\n",
       "    </tr>\n",
       "    <tr>\n",
       "      <th>4</th>\n",
       "      <td>Pernambuco</td>\n",
       "      <td>3.0</td>\n",
       "      <td>4.0</td>\n",
       "    </tr>\n",
       "  </tbody>\n",
       "</table>\n",
       "</div>"
      ],
      "text/plain": [
       "  Unidade federativa  IDEB 2005  IDEB 2015\n",
       "0          São Paulo        3.6        4.2\n",
       "1     Rio de Janeiro        3.3        4.0\n",
       "2   Distrito Federal        3.6        4.0\n",
       "3     Espírito Santo        3.8        4.0\n",
       "4         Pernambuco        3.0        4.0"
      ]
     },
     "execution_count": 1,
     "metadata": {},
     "output_type": "execute_result"
    }
   ],
   "source": [
    "import pandas as pd\n",
    "\n",
    "df_ideb_durante_lula = pd.read_html('https://pt.wikipedia.org/wiki/Lista_de_unidades_federativas_do_Brasil_por_IDEB')[2][['Unidade federativa','IDEB 2005','IDEB 2015']]\n",
    "df_ideb_durante_lula['IDEB 2015'] = df_ideb_durante_lula['IDEB 2015'].apply(lambda x : float(x.replace(' ','').replace(',','.').split('[')[0]))\n",
    "df_ideb_durante_lula['IDEB 2005'] = df_ideb_durante_lula['IDEB 2005']/10\n",
    "df_ideb_durante_lula.head()"
   ]
  },
  {
   "cell_type": "code",
   "execution_count": 2,
   "metadata": {},
   "outputs": [
    {
     "name": "stdout",
     "output_type": "stream",
     "text": [
      "SÃO PAULO\n",
      "RIO DE JANEIRO\n",
      "DISTRITO FEDERAL\n",
      "ESPÍRITO SANTO\n",
      "PERNAMBUCO\n",
      "PARANÁ\n",
      "GOIÁS\n",
      "SANTA CATARINA\n",
      "MINAS GERAIS\n",
      "MATO GROSSO DO SUL\n",
      "CEARÁ\n",
      "AMAZONAS\n",
      "RIO GRANDE DO SUL\n",
      "RONDÔNIA\n",
      "ACRE\n",
      "RORAIMA\n",
      "PARAÍBA\n",
      "TOCANTINS\n",
      "PIAUÍ\n",
      "MARANHÃO\n",
      "AMAPÁ\n",
      "MATO GROSSO\n",
      "SERGIPE\n",
      "RIO GRANDE DO NORTE\n",
      "ALAGOAS\n",
      "PARÁ\n",
      "BAHIA\n"
     ]
    }
   ],
   "source": [
    "from helpers import get_uf_sg\n",
    "df_ideb_durante_lula['SG_UF'] = df_ideb_durante_lula['Unidade federativa'].apply(lambda x: get_uf_sg(x.upper()))"
   ]
  },
  {
   "cell_type": "code",
   "execution_count": 14,
   "metadata": {},
   "outputs": [
    {
     "name": "stdout",
     "output_type": "stream",
     "text": [
      "<class 'pandas.core.frame.DataFrame'>\n",
      "Int64Index: 5297 entries, 0 to 5296\n",
      "Data columns (total 9 columns):\n",
      " #   Column              Non-Null Count  Dtype  \n",
      "---  ------              --------------  -----  \n",
      " 0   SG_UF               5297 non-null   object \n",
      " 1   NM_MUNICIPIO        5297 non-null   object \n",
      " 2   CD_MUNICIPIO        5297 non-null   int64  \n",
      " 3   QT_VOTOS            5297 non-null   int64  \n",
      " 4   PP_LULA             5297 non-null   float64\n",
      " 5   pib                 5297 non-null   object \n",
      " 6   Unidade federativa  5297 non-null   object \n",
      " 7   IDEB 2005           5297 non-null   float64\n",
      " 8   IDEB 2015           5297 non-null   float64\n",
      "dtypes: float64(3), int64(2), object(4)\n",
      "memory usage: 413.8+ KB\n"
     ]
    }
   ],
   "source": [
    "pp_df = pd.read_csv('pp_lula_by_municipio.csv')\n",
    "pp_df = pd.merge(pp_df, df_ideb_durante_lula, on='SG_UF', how='left').drop('Unidade federativa', axis=1)\n",
    "pp_df.info()"
   ]
  },
  {
   "cell_type": "markdown",
   "metadata": {},
   "source": [
    "## Salvamento"
   ]
  },
  {
   "cell_type": "code",
   "execution_count": 16,
   "metadata": {},
   "outputs": [],
   "source": [
    "pp_df.to_csv('pp_lula_by_municipio.csv', index=False)"
   ]
  },
  {
   "cell_type": "code",
   "execution_count": null,
   "metadata": {},
   "outputs": [],
   "source": []
  }
 ],
 "metadata": {
  "kernelspec": {
   "display_name": "Python 3",
   "language": "python",
   "name": "python3"
  },
  "language_info": {
   "codemirror_mode": {
    "name": "ipython",
    "version": 3
   },
   "file_extension": ".py",
   "mimetype": "text/x-python",
   "name": "python",
   "nbconvert_exporter": "python",
   "pygments_lexer": "ipython3",
   "version": "3.11.3"
  }
 },
 "nbformat": 4,
 "nbformat_minor": 2
}
