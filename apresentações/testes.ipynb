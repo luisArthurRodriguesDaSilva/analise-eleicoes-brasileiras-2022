{
 "cells": [
  {
   "cell_type": "code",
   "execution_count": 8,
   "metadata": {},
   "outputs": [
    {
     "data": {
      "text/plain": [
       "Index(['DT_GERACAO', 'HH_GERACAO', 'ANO_ELEICAO', 'CD_TIPO_ELEICAO',\n",
       "       'NM_TIPO_ELEICAO', 'CD_PLEITO', 'DT_PLEITO', 'NR_TURNO', 'CD_ELEICAO',\n",
       "       'DS_ELEICAO', 'SG_UF', 'CD_MUNICIPIO', 'NM_MUNICIPIO', 'NR_ZONA',\n",
       "       'NR_SECAO', 'NR_LOCAL_VOTACAO', 'CD_CARGO_PERGUNTA',\n",
       "       'DS_CARGO_PERGUNTA', 'NR_PARTIDO', 'SG_PARTIDO', 'NM_PARTIDO',\n",
       "       'DT_BU_RECEBIDO', 'QT_APTOS', 'QT_COMPARECIMENTO', 'QT_ABSTENCOES',\n",
       "       'CD_TIPO_URNA', 'DS_TIPO_URNA', 'CD_TIPO_VOTAVEL', 'DS_TIPO_VOTAVEL',\n",
       "       'NR_VOTAVEL', 'NM_VOTAVEL', 'QT_VOTOS', 'NR_URNA_EFETIVADA',\n",
       "       'CD_CARGA_1_URNA_EFETIVADA', 'CD_CARGA_2_URNA_EFETIVADA',\n",
       "       'CD_FLASHCARD_URNA_EFETIVADA', 'DT_CARGA_URNA_EFETIVADA',\n",
       "       'DS_CARGO_PERGUNTA_SECAO', 'DS_AGREGADAS', 'DT_ABERTURA',\n",
       "       'DT_ENCERRAMENTO', 'QT_ELEITORES_BIOMETRIA_NH', 'DT_EMISSAO_BU',\n",
       "       'NR_JUNTA_APURADORA', 'NR_TURMA_APURADORA'],\n",
       "      dtype='object')"
      ]
     },
     "execution_count": 8,
     "metadata": {},
     "output_type": "execute_result"
    }
   ],
   "source": [
    "import pandas as pd\n",
    "with open(f\"../notebooks/csvs/bweb_2t_SP_311020221535.csv\", \"rb\") as f:\n",
    "        df = pd.read_csv(f, sep=\";\", encoding=\"latin-1\")\n",
    "        \n",
    "df.columns"
   ]
  },
  {
   "cell_type": "code",
   "execution_count": 11,
   "metadata": {},
   "outputs": [
    {
     "data": {
      "text/plain": [
       "DT_GERACAO  HH_GERACAO  ANO_ELEICAO  CD_TIPO_ELEICAO  NM_TIPO_ELEICAO    CD_PLEITO  DT_PLEITO   NR_TURNO  CD_ELEICAO  DS_ELEICAO                  SG_UF  CD_MUNICIPIO  NM_MUNICIPIO                NR_ZONA  NR_SECAO  NR_LOCAL_VOTACAO  CD_CARGO_PERGUNTA  DS_CARGO_PERGUNTA  NR_PARTIDO  SG_PARTIDO  NM_PARTIDO                 DT_BU_RECEBIDO       QT_APTOS  QT_COMPARECIMENTO  QT_ABSTENCOES  CD_TIPO_URNA  DS_TIPO_URNA  CD_TIPO_VOTAVEL  DS_TIPO_VOTAVEL  NR_VOTAVEL  NM_VOTAVEL      QT_VOTOS  NR_URNA_EFETIVADA  CD_CARGA_1_URNA_EFETIVADA  CD_CARGA_2_URNA_EFETIVADA  CD_FLASHCARD_URNA_EFETIVADA  DT_CARGA_URNA_EFETIVADA  DS_CARGO_PERGUNTA_SECAO  DS_AGREGADAS  DT_ABERTURA          DT_ENCERRAMENTO      QT_ELEITORES_BIOMETRIA_NH  DT_EMISSAO_BU        NR_JUNTA_APURADORA  NR_TURMA_APURADORA\n",
       "31/10/2022  15:52:42    2022         0                Eleição Ordinária  407        30/10/2022  2         545         Eleição Geral Federal 2022  SP     61000         EUCLIDES DA CUNHA PAULISTA  330      17        1031              1                  Presidente         -1          #NULO#      #NULO#                     30/10/2022 17:42:37  343       222                121            1             APURADA       2                Branco           95          Branco          3         1813382            684.316.529.801.513.031.   970.540                    B65DE0E0                     28/09/2022 14:29:00      1 - 17                   #NULO#        30/10/2022 08:00:01  30/10/2022 17:00:35  12                         30/10/2022 17:02:29  -1                  -1                    1\n",
       "                                                                                                                                                         71072         SÃO PAULO                   6        21        1023              1                  Presidente         -1          #NULO#      #NULO#                     30/10/2022 19:25:26  382       284                98             1             APURADA       3                Nulo             96          Nulo            7         1204419            493.015.742.867.209.356.   990.464                    4E65B484                     25/09/2022 16:28:00      1 - 21                   #NULO#        30/10/2022 08:00:01  30/10/2022 17:06:35  45                         30/10/2022 17:08:55  -1                  -1                    1\n",
       "                                                                                                                                                                                                            20        1023              1                  Presidente          22         PL          Partido Liberal            30/10/2022 19:16:15  385       293                92             1             APURADA       1                Nominal          22          JAIR BOLSONARO  121       1171936            967.762.104.814.119.651.   556.169                    4E65B484                     25/09/2022 16:20:00      1 - 20                   #NULO#        30/10/2022 08:00:01  30/10/2022 17:09:09  39                         30/10/2022 17:11:01  -1                  -1                    1\n",
       "                                                                                                                                                                                                                                                                               13         PT          Partido dos Trabalhadores  30/10/2022 19:16:15  385       293                92             1             APURADA       1                Nominal          13          LULA            155       1171936            967.762.104.814.119.651.   556.169                    4E65B484                     25/09/2022 16:20:00      1 - 20                   #NULO#        30/10/2022 08:00:01  30/10/2022 17:09:09  39                         30/10/2022 17:11:01  -1                  -1                    1\n",
       "                                                                                                                                                                                                                                                                              -1          #NULO#      #NULO#                     30/10/2022 19:16:15  385       293                92             1             APURADA       3                Nulo             96          Nulo            8         1171936            967.762.104.814.119.651.   556.169                    4E65B484                     25/09/2022 16:20:00      1 - 20                   #NULO#        30/10/2022 08:00:01  30/10/2022 17:09:09  39                         30/10/2022 17:11:01  -1                  -1                    1\n",
       "                                                                                                                                                                                                                                                                                                                                                                                                                                                                                                                                                                                                                                                                                                                                                                                                               ..\n",
       "                                                                                                                                                         66010         JANDIRA                     304      76        1074              1                  Presidente         -1          #NULO#      #NULO#                     30/10/2022 19:09:17  388       308                80             1             APURADA       2                Branco           95          Branco          2         2142568            225.393.378.284.241.960.   848.846                    715FF690                     22/09/2022 17:03:00      1 - 76                   #NULO#        30/10/2022 08:00:01  30/10/2022 17:02:27  14                         30/10/2022 17:04:50  -1                  -1                    1\n",
       "                                                                                                                                                                                                            75        1066              1                  Presidente          22         PL          Partido Liberal            30/10/2022 19:17:01  342       276                66             1             APURADA       1                Nominal          22          JAIR BOLSONARO  116       1842835            498.020.531.066.855.216.   688.764                    174B06D1                     23/09/2022 17:24:00      1 - 75                   #NULO#        30/10/2022 08:00:01  30/10/2022 17:01:02  13                         30/10/2022 17:03:07  -1                  -1                    1\n",
       "                                                                                                                                                                                                                                                                               13         PT          Partido dos Trabalhadores  30/10/2022 19:17:01  342       276                66             1             APURADA       1                Nominal          13          LULA            133       1842835            498.020.531.066.855.216.   688.764                    174B06D1                     23/09/2022 17:24:00      1 - 75                   #NULO#        30/10/2022 08:00:01  30/10/2022 17:01:02  13                         30/10/2022 17:03:07  -1                  -1                    1\n",
       "                                                                                                                                                                                                                                                                              -1          #NULO#      #NULO#                     30/10/2022 19:17:01  342       276                66             1             APURADA       3                Nulo             96          Nulo            14        1842835            498.020.531.066.855.216.   688.764                    174B06D1                     23/09/2022 17:24:00      1 - 75                   #NULO#        30/10/2022 08:00:01  30/10/2022 17:01:02  13                         30/10/2022 17:03:07  -1                  -1                    1\n",
       "                                                                                                                                                         72737         VARGEM GRANDE PAULISTA      286      301       1210              1                  Presidente          22         PL          Partido Liberal            30/10/2022 19:11:38  107       94                 13             1             APURADA       1                Nominal          22          JAIR BOLSONARO  40        2144330            812.121.194.049.455.790.   628.997                    2E6F5422                     22/09/2022 16:57:00      1 - 301                  #NULO#        30/10/2022 08:01:14  30/10/2022 17:00:31  5                          30/10/2022 17:03:10  -1                  -1                    1\n",
       "Length: 402853, dtype: int64"
      ]
     },
     "execution_count": 11,
     "metadata": {},
     "output_type": "execute_result"
    }
   ],
   "source": [
    "df[df['CD_CARGO_PERGUNTA'] == 1].value_counts()"
   ]
  },
  {
   "cell_type": "code",
   "execution_count": null,
   "metadata": {},
   "outputs": [],
   "source": [
    "402853"
   ]
  }
 ],
 "metadata": {
  "kernelspec": {
   "display_name": "Python 3",
   "language": "python",
   "name": "python3"
  },
  "language_info": {
   "codemirror_mode": {
    "name": "ipython",
    "version": 3
   },
   "file_extension": ".py",
   "mimetype": "text/x-python",
   "name": "python",
   "nbconvert_exporter": "python",
   "pygments_lexer": "ipython3",
   "version": "3.11.3"
  }
 },
 "nbformat": 4,
 "nbformat_minor": 2
}
