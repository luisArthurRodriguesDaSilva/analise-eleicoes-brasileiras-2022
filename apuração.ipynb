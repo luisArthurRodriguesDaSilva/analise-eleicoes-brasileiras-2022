{
  "cells": [
    {
      "cell_type": "markdown",
      "metadata": {
        "id": "view-in-github",
        "colab_type": "text"
      },
      "source": [
        "<a href=\"https://colab.research.google.com/github/luisArthurRodriguesDaSilva/estudo-data-science-eleicoes/blob/master/apura%C3%A7%C3%A3o.ipynb\" target=\"_parent\"><img src=\"https://colab.research.google.com/assets/colab-badge.svg\" alt=\"Open In Colab\"/></a>"
      ]
    },
    {
      "cell_type": "code",
      "source": [
        "import pandas as pd\n",
        "import numpy as np\n",
        "import requests\n",
        "import pprint\n",
        "from matplotlib import pyplot as plt\n",
        "import seaborn as sns"
      ],
      "metadata": {
        "id": "f5kfFEeuRmgH"
      },
      "execution_count": 1,
      "outputs": []
    },
    {
      "cell_type": "code",
      "source": [
        "BRAZIL_UFs = [\"AC\",\"AL\",\"AM\",\"AP\",\"BA\",\"CE\",\"DF\",\"ES\",\"GO\",\"MA\",\"MT\",\"MS\",\"MG\",\"PA\",\"PB\",\"PR\",\"PE\",\"PI\",\"RJ\",\"RN\",\"RO\",\"RS\",\"RR\",\"SC\",\"SE\",\"SP\",\"TO\"]\n",
        "brasil_ufs = ['ac','al','am','ap','ba','ce','df','es','go','ma','mt','ms','mg','pa','pb','pr','pe','pi','rj','rn','ro','rs','rr','sc','se','sp','to']"
      ],
      "metadata": {
        "id": "Y-ZmryttaGJt"
      },
      "execution_count": 2,
      "outputs": []
    },
    {
      "cell_type": "code",
      "source": [
        "def getDeputadoEstadualUrl(uf):\n",
        "  return f'https://resultados.tse.jus.br/oficial/ele2022/546/dados-simplificados/{uf}/{uf}-c0007-e000546-r.json'\n",
        "\n",
        "def getPresidentUrl(uf):\n",
        "  return f'https://resultados.tse.jus.br/oficial/ele2022/544/dados-simplificados/{uf}/{uf}-c0001-e000544-r.json'\n",
        "\n",
        "def getGovernadorUrl(uf):\n",
        "  return f'https://resultados.tse.jus.br/oficial/ele2022/546/dados-simplificados/{uf}/{uf}-c0003-e000546-r.json'\n",
        "\n",
        "def getDeputadoFederalUrl(uf):\n",
        "  return f'https://resultados.tse.jus.br/oficial/ele2022/546/dados-simplificados/{uf}/{uf}-c0006-e000546-r.json'\n",
        "\n",
        "def getSenadorUrl(uf):\n",
        "  return f'https://resultados.tse.jus.br/oficial/ele2022/546/dados-simplificados/{uf}/{uf}-c0005-e000546-r.json'\n",
        "\n",
        "gets= [getPresidentUrl, getSenadorUrl, getDeputadoFederalUrl, getDeputadoEstadualUrl, getGovernadorUrl]\n",
        "categoryKeys= ['Presidente', 'Senador', 'DeputadoFederal', 'DeputadoEstadual', 'Governador']"
      ],
      "metadata": {
        "id": "9JLw0krmmiaD"
      },
      "execution_count": 3,
      "outputs": []
    },
    {
      "cell_type": "code",
      "execution_count": 11,
      "metadata": {
        "id": "aJ05iw4M1ece"
      },
      "outputs": [],
      "source": [
        "def trabalhoDoJuan(url,uf): #taked on \n",
        "  re=requests.get(url).json()\n",
        "  candidatos = re['cand'][:10]\n",
        "\n",
        "  df=pd.DataFrame(candidatos)\n",
        "  df=df[['nm','n','dvt','vap','pvap']]\n",
        "  df.rename(columns={'nm':'Nome do Candidato',\n",
        "                  'n':'Numero do Candidato',\n",
        "                  'dvt':'Validade',\n",
        "                  'vap':'Votos',\n",
        "                  'pvap':'(%) Votos'}, inplace=True)\n",
        "\n",
        "  df['Horario Atualização']=re['hg']\n",
        "  df['(%) Votos']=df['(%) Votos'].str.replace(',','.')\n",
        "  df['(%) Votos']=df['(%) Votos'].astype(float)\n",
        "  df['Votos']=df['Votos'].astype(int)\n",
        "  df['Nome do Candidato']=df['Nome do Candidato'].str.replace('D&apos;',\"D'\")\n",
        "  df=df.sort_values(by='Votos', ascending=False)\n",
        "\n",
        "  fig, axs = plt.subplots(ncols=1, figsize=(13,6))\n",
        "\n",
        "  ax1 = sns.barplot(\n",
        "      x=\"Nome do Candidato\",\n",
        "      y='(%) Votos',\n",
        "      data=df[:10],\n",
        "      palette=\"ch:.25\",\n",
        "      ax=axs)\n",
        "\n",
        "  ax1.set(xlabel=\"Candidatos(as)\",\n",
        "          ylabel=\"(%) Votos\",\n",
        "          title=f\"Apuração de resultados Eleições 2022 {uf} - Presidente - (5 mais Votados)\",\n",
        "          ylim=(0,70))\n",
        "\n",
        "\n",
        "  # Adicionando rotulo com valores no gráfico ax1:\n",
        "  for p in ax1.patches:\n",
        "              ax1.annotate(\"%.2f\" % p.get_height(), (p.get_x() + p.get_width() / 2., p.get_height()),\n",
        "                  ha='center', va='center', fontsize=13, color='black', xytext=(2, 5),\n",
        "                  textcoords='offset points')\n",
        "\n",
        "  plt.show()\n",
        "\n",
        "  print (f'Sessões Totais em {uf}: {re[\"s\"]}')\n",
        "  print (f'Sessões Apuradas em {uf}: {re[\"st\"]}')\n",
        "  pct=int(re['st'])/int(re['s'])*100\n",
        "  print (f'Percentual de sessões apuradas em {uf}: {round(pct,4)}%')"
      ]
    },
    {
      "cell_type": "code",
      "source": [
        "trabalhoDoJuan(getGovernadorUrl('rj'),'rj')"
      ],
      "metadata": {
        "id": "wNp0ZCZDcCzy",
        "outputId": "5c117787-2fe9-409c-9074-cf498ea1ea5f",
        "colab": {
          "base_uri": "https://localhost:8080/",
          "height": 456
        }
      },
      "execution_count": 12,
      "outputs": [
        {
          "output_type": "display_data",
          "data": {
            "text/plain": [
              "<Figure size 936x432 with 1 Axes>"
            ],
            "image/png": "[encoded data removed]"
          },
          "metadata": {
            "needs_background": "light"
          }
        },
        {
          "output_type": "stream",
          "name": "stdout",
          "text": [
            "Sessões Totais em rj: 34068\n",
            "Sessões Apuradas em rj: 34068\n",
            "Percentual de sessões apuradas em rj: 100.0%\n"
          ]
        }
      ]
    },
    {
      "cell_type": "code",
      "source": [
        "def takeData(url):\n",
        "  re=requests.get(url).json()\n",
        "  candidatos = re['cand']\n",
        "\n",
        "  df=pd.DataFrame(candidatos)\n",
        "  df=df[['nm','n','dvt','vap','pvap']]\n",
        "  df.rename(columns={'nm':'Nome do Candidato',\n",
        "                  'n':'Numero do Candidato',\n",
        "                  'dvt':'Validade',\n",
        "                  'vap':'Votos',\n",
        "                  'pvap':'(%) Votos'}, inplace=True)\n",
        "  \n",
        "  df['(%) Votos']=df['(%) Votos'].str.replace(',','.')\n",
        "  df['(%) Votos']=df['(%) Votos'].astype(float)\n",
        "  df['Votos']=df['Votos'].astype(int)\n",
        "  df['Nome do Candidato']=df['Nome do Candidato'].str.replace('D&apos;',\"D'\")\n",
        "  df=df.sort_values(by='Votos', ascending=False)\n",
        "  return(df)"
      ],
      "metadata": {
        "id": "t4MPBrnuhZ2x"
      },
      "execution_count": 5,
      "outputs": []
    },
    {
      "cell_type": "code",
      "source": [
        "def getAllDataByUf(uf):\n",
        "  info = {}\n",
        "  for index, category in enumerate(categoryKeys):\n",
        "    try:\n",
        "      info[category] = takeData(gets[index](uf))\n",
        "    except:\n",
        "      if uf == 'df':\n",
        "        info[category] = 'df não tem prefeito'\n",
        "      else:\n",
        "        info[category] = 'this is brasil'\n",
        "  return info"
      ],
      "metadata": {
        "id": "6xvRgkpFU81R"
      },
      "execution_count": 6,
      "outputs": []
    },
    {
      "cell_type": "code",
      "source": [
        "electionsData = {}\n",
        "electionsData['br'] = getAllDataByUf('br')\n",
        "for i, uf in  enumerate(brasil_ufs):\n",
        "  electionsData[uf] = getAllDataByUf(uf)\n",
        "  print(uf)"
      ],
      "metadata": {
        "id": "6Y0LYOHz5aa0",
        "colab": {
          "base_uri": "https://localhost:8080/"
        },
        "outputId": "5302e07b-1b71-4394-900c-4db99291efec"
      },
      "execution_count": 7,
      "outputs": [
        {
          "output_type": "stream",
          "name": "stdout",
          "text": [
            "ac\n",
            "al\n",
            "am\n",
            "ap\n",
            "ba\n",
            "ce\n",
            "df\n",
            "es\n",
            "go\n",
            "ma\n",
            "mt\n",
            "ms\n",
            "mg\n",
            "pa\n",
            "pb\n",
            "pr\n",
            "pe\n",
            "pi\n",
            "rj\n",
            "rn\n",
            "ro\n",
            "rs\n",
            "rr\n",
            "sc\n",
            "se\n",
            "sp\n",
            "to\n"
          ]
        }
      ]
    },
    {
      "cell_type": "code",
      "source": [
        "electionsData['ce']['Presidente']"
      ],
      "metadata": {
        "colab": {
          "base_uri": "https://localhost:8080/",
          "height": 394
        },
        "id": "ovhbZ3F-Ybw9",
        "outputId": "dc7acad3-c99d-4504-bdd0-ddf716845721"
      },
      "execution_count": 9,
      "outputs": [
        {
          "output_type": "execute_result",
          "data": {
            "text/plain": [
              "      Nome do Candidato Numero do Candidato Validade    Votos  (%) Votos\n",
              "0                  LULA                  13   Válido  3578355      65.91\n",
              "5        JAIR BOLSONARO                  22   Válido  1377827      25.38\n",
              "10           CIRO GOMES                  12   Válido   369222       6.80\n",
              "2          SIMONE TEBET                  15   Válido    66214       1.22\n",
              "8      SORAYA THRONICKE                  44   Válido    24497       0.45\n",
              "7        FELIPE D'AVILA                  30   Válido     7030       0.13\n",
              "1          PADRE KELMON                  14   Válido     2278       0.04\n",
              "4         SOFIA MANZANO                  21   Válido     1579       0.03\n",
              "9          LÉO PÉRICLES                  80   Válido     1129       0.02\n",
              "3                  VERA                  16   Válido      717       0.01\n",
              "6   CONSTITUINTE EYMAEL                  27   Válido      416       0.01"
            ],
            "text/html": [
              "\n",
              "  <div id=\"df-463e695f-5f79-434d-acd5-f7dcd5e0d8b3\">\n",
              "    <div class=\"colab-df-container\">\n",
              "      <div>\n",
              "<style scoped>\n",
              "    .dataframe tbody tr th:only-of-type {\n",
              "        vertical-align: middle;\n",
              "    }\n",
              "\n",
              "    .dataframe tbody tr th {\n",
              "        vertical-align: top;\n",
              "    }\n",
              "\n",
              "    .dataframe thead th {\n",
              "        text-align: right;\n",
              "    }\n",
              "</style>\n",
              "<table border=\"1\" class=\"dataframe\">\n",
              "  <thead>\n",
              "    <tr style=\"text-align: right;\">\n",
              "      <th></th>\n",
              "      <th>Nome do Candidato</th>\n",
              "      <th>Numero do Candidato</th>\n",
              "      <th>Validade</th>\n",
              "      <th>Votos</th>\n",
              "      <th>(%) Votos</th>\n",
              "    </tr>\n",
              "  </thead>\n",
              "  <tbody>\n",
              "    <tr>\n",
              "      <th>0</th>\n",
              "      <td>LULA</td>\n",
              "      <td>13</td>\n",
              "      <td>Válido</td>\n",
              "      <td>3578355</td>\n",
              "      <td>65.91</td>\n",
              "    </tr>\n",
              "    <tr>\n",
              "      <th>5</th>\n",
              "      <td>JAIR BOLSONARO</td>\n",
              "      <td>22</td>\n",
              "      <td>Válido</td>\n",
              "      <td>1377827</td>\n",
              "      <td>25.38</td>\n",
              "    </tr>\n",
              "    <tr>\n",
              "      <th>10</th>\n",
              "      <td>CIRO GOMES</td>\n",
              "      <td>12</td>\n",
              "      <td>Válido</td>\n",
              "      <td>369222</td>\n",
              "      <td>6.80</td>\n",
              "    </tr>\n",
              "    <tr>\n",
              "      <th>2</th>\n",
              "      <td>SIMONE TEBET</td>\n",
              "      <td>15</td>\n",
              "      <td>Válido</td>\n",
              "      <td>66214</td>\n",
              "      <td>1.22</td>\n",
              "    </tr>\n",
              "    <tr>\n",
              "      <th>8</th>\n",
              "      <td>SORAYA THRONICKE</td>\n",
              "      <td>44</td>\n",
              "      <td>Válido</td>\n",
              "      <td>24497</td>\n",
              "      <td>0.45</td>\n",
              "    </tr>\n",
              "    <tr>\n",
              "      <th>7</th>\n",
              "      <td>FELIPE D'AVILA</td>\n",
              "      <td>30</td>\n",
              "      <td>Válido</td>\n",
              "      <td>7030</td>\n",
              "      <td>0.13</td>\n",
              "    </tr>\n",
              "    <tr>\n",
              "      <th>1</th>\n",
              "      <td>PADRE KELMON</td>\n",
              "      <td>14</td>\n",
              "      <td>Válido</td>\n",
              "      <td>2278</td>\n",
              "      <td>0.04</td>\n",
              "    </tr>\n",
              "    <tr>\n",
              "      <th>4</th>\n",
              "      <td>SOFIA MANZANO</td>\n",
              "      <td>21</td>\n",
              "      <td>Válido</td>\n",
              "      <td>1579</td>\n",
              "      <td>0.03</td>\n",
              "    </tr>\n",
              "    <tr>\n",
              "      <th>9</th>\n",
              "      <td>LÉO PÉRICLES</td>\n",
              "      <td>80</td>\n",
              "      <td>Válido</td>\n",
              "      <td>1129</td>\n",
              "      <td>0.02</td>\n",
              "    </tr>\n",
              "    <tr>\n",
              "      <th>3</th>\n",
              "      <td>VERA</td>\n",
              "      <td>16</td>\n",
              "      <td>Válido</td>\n",
              "      <td>717</td>\n",
              "      <td>0.01</td>\n",
              "    </tr>\n",
              "    <tr>\n",
              "      <th>6</th>\n",
              "      <td>CONSTITUINTE EYMAEL</td>\n",
              "      <td>27</td>\n",
              "      <td>Válido</td>\n",
              "      <td>416</td>\n",
              "      <td>0.01</td>\n",
              "    </tr>\n",
              "  </tbody>\n",
              "</table>\n",
              "</div>\n",
              "      <button class=\"colab-df-convert\" onclick=\"convertToInteractive('df-463e695f-5f79-434d-acd5-f7dcd5e0d8b3')\"\n",
              "              title=\"Convert this dataframe to an interactive table.\"\n",
              "              style=\"display:none;\">\n",
              "        \n",
              "  <svg xmlns=\"http://www.w3.org/2000/svg\" height=\"24px\"viewBox=\"0 0 24 24\"\n",
              "       width=\"24px\">\n",
              "    <path d=\"M0 0h24v24H0V0z\" fill=\"none\"/>\n",
              "    <path d=\"M18.56 5.44l.94 2.06.94-2.06 2.06-.94-2.06-.94-.94-2.06-.94 2.06-2.06.94zm-11 1L8.5 8.5l.94-2.06 2.06-.94-2.06-.94L8.5 2.5l-.94 2.06-2.06.94zm10 10l.94 2.06.94-2.06 2.06-.94-2.06-.94-.94-2.06-.94 2.06-2.06.94z\"/><path d=\"M17.41 7.96l-1.37-1.37c-.4-.4-.92-.59-1.43-.59-.52 0-1.04.2-1.43.59L10.3 9.45l-7.72 7.72c-.78.78-.78 2.05 0 2.83L4 21.41c.39.39.9.59 1.41.59.51 0 1.02-.2 1.41-.59l7.78-7.78 2.81-2.81c.8-.78.8-2.07 0-2.86zM5.41 20L4 18.59l7.72-7.72 1.47 1.35L5.41 20z\"/>\n",
              "  </svg>\n",
              "      </button>\n",
              "      \n",
              "  <style>\n",
              "    .colab-df-container {\n",
              "      display:flex;\n",
              "      flex-wrap:wrap;\n",
              "      gap: 12px;\n",
              "    }\n",
              "\n",
              "    .colab-df-convert {\n",
              "      background-color: #E8F0FE;\n",
              "      border: none;\n",
              "      border-radius: 50%;\n",
              "      cursor: pointer;\n",
              "      display: none;\n",
              "      fill: #1967D2;\n",
              "      height: 32px;\n",
              "      padding: 0 0 0 0;\n",
              "      width: 32px;\n",
              "    }\n",
              "\n",
              "    .colab-df-convert:hover {\n",
              "      background-color: #E2EBFA;\n",
              "      box-shadow: 0px 1px 2px rgba(60, 64, 67, 0.3), 0px 1px 3px 1px rgba(60, 64, 67, 0.15);\n",
              "      fill: #174EA6;\n",
              "    }\n",
              "\n",
              "    [theme=dark] .colab-df-convert {\n",
              "      background-color: #3B4455;\n",
              "      fill: #D2E3FC;\n",
              "    }\n",
              "\n",
              "    [theme=dark] .colab-df-convert:hover {\n",
              "      background-color: #434B5C;\n",
              "      box-shadow: 0px 1px 3px 1px rgba(0, 0, 0, 0.15);\n",
              "      filter: drop-shadow(0px 1px 2px rgba(0, 0, 0, 0.3));\n",
              "      fill: #FFFFFF;\n",
              "    }\n",
              "  </style>\n",
              "\n",
              "      <script>\n",
              "        const buttonEl =\n",
              "          document.querySelector('#df-463e695f-5f79-434d-acd5-f7dcd5e0d8b3 button.colab-df-convert');\n",
              "        buttonEl.style.display =\n",
              "          google.colab.kernel.accessAllowed ? 'block' : 'none';\n",
              "\n",
              "        async function convertToInteractive(key) {\n",
              "          const element = document.querySelector('#df-463e695f-5f79-434d-acd5-f7dcd5e0d8b3');\n",
              "          const dataTable =\n",
              "            await google.colab.kernel.invokeFunction('convertToInteractive',\n",
              "                                                     [key], {});\n",
              "          if (!dataTable) return;\n",
              "\n",
              "          const docLinkHtml = 'Like what you see? Visit the ' +\n",
              "            '<a target=\"_blank\" href=https://colab.research.google.com/notebooks/data_table.ipynb>data table notebook</a>'\n",
              "            + ' to learn more about interactive tables.';\n",
              "          element.innerHTML = '';\n",
              "          dataTable['output_type'] = 'display_data';\n",
              "          await google.colab.output.renderOutput(dataTable, element);\n",
              "          const docLink = document.createElement('div');\n",
              "          docLink.innerHTML = docLinkHtml;\n",
              "          element.appendChild(docLink);\n",
              "        }\n",
              "      </script>\n",
              "    </div>\n",
              "  </div>\n",
              "  "
            ]
          },
          "metadata": {},
          "execution_count": 9
        }
      ]
    },
    {
      "cell_type": "code",
      "source": [],
      "metadata": {
        "id": "HaDAzyEzZTFj"
      },
      "execution_count": 8,
      "outputs": []
    }
  ],
  "metadata": {
    "colab": {
      "provenance": [],
      "authorship_tag": "ABX9TyPiDvgNzgGNOQU9bd27l2yq",
      "include_colab_link": true
    },
    "kernelspec": {
      "display_name": "Python 3",
      "name": "python3"
    },
    "language_info": {
      "name": "python"
    }
  },
  "nbformat": 4,
  "nbformat_minor": 0
}