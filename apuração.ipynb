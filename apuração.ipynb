{
  "cells": [
    {
      "cell_type": "markdown",
      "metadata": {
        "id": "view-in-github",
        "colab_type": "text"
      },
      "source": [
        "<a href=\"https://colab.research.google.com/github/luisArthurRodriguesDaSilva/estudo-dados-eleicoes/blob/master/apura%C3%A7%C3%A3o.ipynb\" target=\"_parent\"><img src=\"https://colab.research.google.com/assets/colab-badge.svg\" alt=\"Open In Colab\"/></a>"
      ]
    },
    {
      "cell_type": "markdown",
      "metadata": {
        "id": "y9BYZfDKZvg9"
      },
      "source": [
        "# 1 importações de bibliotecas e recursos"
      ]
    },
    {
      "cell_type": "code",
      "execution_count": 1,
      "metadata": {
        "id": "f5kfFEeuRmgH"
      },
      "outputs": [],
      "source": [
        "import pandas as pd\n",
        "import numpy as np\n",
        "import requests\n",
        "import pprint\n",
        "from matplotlib import pyplot as plt\n",
        "import seaborn as sns\n",
        "import cmath"
      ]
    },
    {
      "cell_type": "markdown",
      "metadata": {
        "id": "KPL-MgI_aEyI"
      },
      "source": [
        "# 2 funções para fazer as devidas requisições na api"
      ]
    },
    {
      "cell_type": "code",
      "execution_count": 3,
      "metadata": {
        "id": "9JLw0krmmiaD"
      },
      "outputs": [],
      "source": [
        "def getDeputadoEstadualUrl(uf):\n",
        "  return f'https://resultados.tse.jus.br/oficial/ele2022/546/dados-simplificados/{uf}/{uf}-c0007-e000546-r.json'\n",
        "\n",
        "def getPresidentUrl(uf):\n",
        "  return f'https://resultados.tse.jus.br/oficial/ele2022/544/dados-simplificados/{uf}/{uf}-c0001-e000544-r.json'\n",
        "\n",
        "def getGovernadorUrl(uf):\n",
        "  return f'https://resultados.tse.jus.br/oficial/ele2022/546/dados-simplificados/{uf}/{uf}-c0003-e000546-r.json'\n",
        "\n",
        "def getDeputadoFederalUrl(uf):\n",
        "  return f'https://resultados.tse.jus.br/oficial/ele2022/546/dados-simplificados/{uf}/{uf}-c0006-e000546-r.json'\n",
        "\n",
        "def getSenadorUrl(uf):\n",
        "  return f'https://resultados.tse.jus.br/oficial/ele2022/546/dados-simplificados/{uf}/{uf}-c0005-e000546-r.json'\n",
        "\n",
        "gets= [getPresidentUrl, getSenadorUrl, getDeputadoFederalUrl, getDeputadoEstadualUrl, getGovernadorUrl]\n",
        "categoryKeys= ['Presidente', 'Senador', 'DeputadoFederal', 'DeputadoEstadual', 'Governador']\n",
        "brasil_ufs = ['ac','al','am','ap','ba','ce','df','es','go','ma','mt','ms','mg','pa','pb','pr','pe','pi','rj','rn','ro','rs','rr','sc','se','sp','to']\n",
        "\n",
        "LULA_TAG          = 'LULA' \n",
        "BOLSONARO_TAG     = 'JAIR BOLSONARO' \n",
        "CIRO_TAG          = 'CIRO GOMES' \n",
        "TEBET_TAG         = 'SIMONE TEBET' \n",
        "SORAYA_TAG        = 'SORAYA THRONICKE' \n",
        "DAVILA_TAG        =  \"FELIPE D'AVILA\"\n",
        "PADRE_TAG         = 'PADRE KELMON' \n",
        "SOFIA_MANZANO_TAG = 'SOFIA MANZANO' \n",
        "LEO_PERICLES_TAG  ='LÉO PÉRICLES'\n",
        "VERA_TAG          = 'VERA' \n",
        "EYMAEL_TAG        = 'CONSTITUINTE EYMAEL'\n",
        "candidatesTags    = [LULA_TAG, BOLSONARO_TAG, CIRO_TAG, TEBET_TAG, SORAYA_TAG, DAVILA_TAG, PADRE_TAG, SOFIA_MANZANO_TAG, LEO_PERICLES_TAG, VERA_TAG, EYMAEL_TAG]\n",
        "cadidatesColors   =['red', 'green', 'blue','red', 'green', 'blue','red', 'green', 'blue','green','yellow']"
      ]
    },
    {
      "cell_type": "markdown",
      "metadata": {
        "id": "NFNmKIPVaUYS"
      },
      "source": [
        "# Criação do electionsData\n",
        "### ele é um objeto mais organizado contendo todas as informações separadas por estado"
      ]
    },
    {
      "cell_type": "code",
      "execution_count": 4,
      "metadata": {
        "id": "t4MPBrnuhZ2x"
      },
      "outputs": [],
      "source": [
        "def takeData(url):\n",
        "  re=requests.get(url).json()\n",
        "  candidatos = re['cand']\n",
        "\n",
        "  df=pd.DataFrame(candidatos)\n",
        "  df=df[['nm','n','dvt','vap','pvap']]\n",
        "  df.rename(columns={'nm':'Nome do Candidato',\n",
        "                  'n':'Numero do Candidato',\n",
        "                  'dvt':'Validade',\n",
        "                  'vap':'Votos',\n",
        "                  'pvap':'(%) Votos'}, inplace=True)\n",
        "  \n",
        "  df['(%) Votos']=df['(%) Votos'].str.replace(',','.')\n",
        "  df['(%) Votos']=df['(%) Votos'].astype(float)\n",
        "  df['Votos']=df['Votos'].astype(int)\n",
        "  df['Nome do Candidato']=df['Nome do Candidato'].str.replace('D&apos;',\"D'\")\n",
        "  df=df.sort_values(by='Votos', ascending=False)\n",
        "  return(df)"
      ]
    },
    {
      "cell_type": "code",
      "execution_count": 5,
      "metadata": {
        "id": "6xvRgkpFU81R"
      },
      "outputs": [],
      "source": [
        "def getAllDataByUf(uf):\n",
        "  info = {}\n",
        "  for index, category in enumerate(categoryKeys):\n",
        "    try:\n",
        "      info[category] = takeData(gets[index](uf))\n",
        "    except:\n",
        "      if uf == 'df':\n",
        "        info[category] = 'df não tem prefeito'\n",
        "      else:\n",
        "        info[category] = 'this is brasil'\n",
        "  return info"
      ]
    },
    {
      "cell_type": "code",
      "execution_count": 6,
      "metadata": {
        "id": "6Y0LYOHz5aa0",
        "outputId": "5ec1451d-6355-44dd-bd52-8ab3e5ba697e",
        "colab": {
          "base_uri": "https://localhost:8080/"
        }
      },
      "outputs": [
        {
          "output_type": "stream",
          "name": "stderr",
          "text": [
            "/usr/local/lib/python3.7/dist-packages/pandas/core/frame.py:5047: SettingWithCopyWarning: \n",
            "A value is trying to be set on a copy of a slice from a DataFrame\n",
            "\n",
            "See the caveats in the documentation: https://pandas.pydata.org/pandas-docs/stable/user_guide/indexing.html#returning-a-view-versus-a-copy\n",
            "  errors=errors,\n"
          ]
        }
      ],
      "source": [
        "electionsData = {}\n",
        "electionsData['br'] = getAllDataByUf('br')\n",
        "for i, uf in  enumerate(brasil_ufs):\n",
        "  electionsData[uf] = getAllDataByUf(uf)"
      ]
    },
    {
      "cell_type": "markdown",
      "source": [
        "# funções para analizar diferenças entre condidatos"
      ],
      "metadata": {
        "id": "ORpDdNkuS0ug"
      }
    },
    {
      "cell_type": "code",
      "source": [
        "def getDiffBetweenTwoCandidates(uf, category='Presidente', candidates=['JAIR BOLSONARO' , 'LULA'], attr = '(%) Votos'):\n",
        "  keysArray = list(electionsData[uf][category].keys()[0:5].array)\n",
        "  positionOtAttr = keysArray.index(attr)\n",
        "  usedData = electionsData[uf][category].values\n",
        "  [candidateOne,candidateTwo] = candidates\n",
        "  candidateOneScore = list(filter(lambda x: x[0]== candidateOne,usedData))[0][positionOtAttr]\n",
        "  candidateTwoScore = list(filter(lambda x: x[0]== candidateTwo,usedData))[0][positionOtAttr]\n",
        "  result = float(format(abs(candidateOneScore - candidateTwoScore),'.2f'))\n",
        "  winer = candidateOne if candidateOneScore > candidateTwoScore else candidateTwo\n",
        "  return result , winer"
      ],
      "metadata": {
        "id": "XCkKDfqJDAdW"
      },
      "execution_count": 7,
      "outputs": []
    },
    {
      "cell_type": "code",
      "source": [
        "getVotesDiffBetweenTwoCandidates = lambda uf,candidates:  getDiffBetweenTwoCandidates(uf=uf , candidates=candidates, attr='Votos')"
      ],
      "metadata": {
        "id": "VcvpmeK0btLx"
      },
      "execution_count": 15,
      "outputs": []
    },
    {
      "cell_type": "code",
      "source": [
        "getPPDiffBetweenTwoCandidates = lambda uf: getDiffBetweenTwoCandidates(uf=uf)"
      ],
      "metadata": {
        "id": "FbJY0bljd4Bl"
      },
      "execution_count": null,
      "outputs": []
    },
    {
      "cell_type": "code",
      "source": [
        "getPPDiffBetweenJairAndLula = lambda uf: getDiffBetweenTwoCandidates(uf=uf)"
      ],
      "metadata": {
        "id": "rOUrJ2IUav5K"
      },
      "execution_count": 14,
      "outputs": []
    },
    {
      "cell_type": "markdown",
      "metadata": {
        "id": "QR_JjKvVZARW"
      },
      "source": [
        "# Os Graficos Começam daqui pra baixo"
      ]
    },
    {
      "cell_type": "code",
      "execution_count": 17,
      "metadata": {
        "colab": {
          "base_uri": "https://localhost:8080/",
          "height": 350
        },
        "id": "HaDAzyEzZTFj",
        "outputId": "672122d6-6521-4e67-fda4-6aed5fbc8146"
      },
      "outputs": [
        {
          "output_type": "display_data",
          "data": {
            "text/plain": [
              "<Figure size 720x360 with 1 Axes>"
            ],
            "image/png": "[encoded data removed]"
          },
          "metadata": {
            "needs_background": "light"
          }
        }
      ],
      "source": [
        "\n",
        "ordened_ufs = sorted(brasil_ufs,key=lambda uf: getPPDiffBetweenJairAndLula(uf)[0])\n",
        "fig, ax = plt.subplots()\n",
        "counts = (list(map(lambda uf : getPPDiffBetweenJairAndLula(uf)[0],ordened_ufs)))\n",
        "bar_colors = list(map(lambda uf : 'tab:green' if getPPDiffBetweenJairAndLula(uf)[1] == BOLSONARO_TAG else 'tab:red',ordened_ufs))\n",
        "fig.set_size_inches(10,5)\n",
        "ax.bar(ordened_ufs, counts, color = bar_colors)\n",
        "ax.bar([0], [0], color = 'green', label='onde bolsonaro ganhou') #metodo para conseguir colocar a legenda\n",
        "ax.bar([0 ],[0 ], color = 'red', label='onde lula ganhou')\n",
        "ax.set_ylabel('%')\n",
        "ax.set_xlabel('estados')\n",
        "ax.set_title('diferença entre lula e bolsonaro por estado no país')\n",
        "ax.legend()\n",
        "\n",
        "plt.show()"
      ]
    },
    {
      "cell_type": "code",
      "execution_count": 16,
      "metadata": {
        "colab": {
          "base_uri": "https://localhost:8080/",
          "height": 350
        },
        "id": "hgrw8irEPUBp",
        "outputId": "15b0f10b-d3df-4146-f5ef-253d0e6394d0"
      },
      "outputs": [
        {
          "output_type": "display_data",
          "data": {
            "text/plain": [
              "<Figure size 720x360 with 1 Axes>"
            ],
            "image/png": "[encoded data removed]"
          },
          "metadata": {
            "needs_background": "light"
          }
        }
      ],
      "source": [
        "def separeLulaBolsoBars(uf):\n",
        "  acrecimo = 0 if getPPDiffBetweenJairAndLula(uf)[1] ==  BOLSONARO_TAG else 100\n",
        "  return getPPDiffBetweenJairAndLula(uf)[0] + acrecimo\n",
        "\n",
        "ordened_ufs = sorted(brasil_ufs,key=separeLulaBolsoBars)\n",
        "\n",
        "counts = (list(map(lambda uf : getPPDiffBetweenJairAndLula(uf)[0],ordened_ufs)))\n",
        "bar_colors = list(map(lambda uf : 'tab:green' if getPPDiffBetweenJairAndLula(uf)[1] == BOLSONARO_TAG else 'tab:red',ordened_ufs))\n",
        "fig, ax = plt.subplots()\n",
        "ax.bar(ordened_ufs, counts, color = bar_colors)\n",
        "ax.bar([0], [0], color = 'green', label='onde bolsonaro ganhou') #metodo para conseguir colocar a legenda\n",
        "ax.bar([0 ],[0 ], color = 'red', label='onde lula ganhou')\n",
        "# bar_colors = list(map(lambda uf : getPPDiffBetweenJairNine(uf)[1],ordened_ufs))\n",
        "fig.set_size_inches(10,5)\n",
        "ax.set_ylabel('%')\n",
        "ax.set_xlabel('estados')\n",
        "ax.set_title('diferença entre lula e bolsonaro por estado no país separadamente')\n",
        "ax.legend()\n",
        "\n",
        "plt.show()"
      ]
    },
    {
      "cell_type": "code",
      "source": [
        "diffCiroTebet = lambda uf : getVotesDiffBetweenTwoCandidates(uf=uf,candidates=[CIRO_TAG,TEBET_TAG])\n",
        "ordened_ufs = sorted(brasil_ufs, key = lambda uf : diffCiroTebet(uf)[0])\n",
        "counts = list(map(lambda uf: diffCiroTebet(uf)[0],ordened_ufs))\n",
        "bar_colors = list(map(lambda uf: 'tab:blue' if diffCiroTebet(uf)[1] == CIRO_TAG else 'tab:red',ordened_ufs))\n",
        "\n",
        "fig, ax = plt.subplots()\n",
        "ax.bar(ordened_ufs, counts, color = bar_colors)\n",
        "ax.bar([0], [0], color = 'blue', label='onde ciro ganhou') #metodo para conseguir colocar a legenda\n",
        "ax.bar([0 ],[0 ], color = 'red', label='onde tebet ganhou')\n",
        "# bar_colors = list(map(lambda uf : getPPDiffBetweenJairNine(uf)[1],ordened_ufs))\n",
        "fig.set_size_inches(10,5)\n",
        "ax.set_ylabel('votos')\n",
        "ax.set_xlabel('estados')\n",
        "ax.set_title('diferença entre ciro e tebet por estado no país')\n",
        "ax.legend()\n",
        "\n",
        "plt.show()"
      ],
      "metadata": {
        "id": "r3HkcvvSbbX2",
        "outputId": "f17098c7-72ce-4e54-d8c0-2215ee2fb755",
        "colab": {
          "base_uri": "https://localhost:8080/",
          "height": 350
        }
      },
      "execution_count": 19,
      "outputs": [
        {
          "output_type": "display_data",
          "data": {
            "text/plain": [
              "<Figure size 720x360 with 1 Axes>"
            ],
            "image/png": "[encoded data removed]"
          },
          "metadata": {
            "needs_background": "light"
          }
        }
      ]
    }
  ],
  "metadata": {
    "colab": {
      "provenance": [],
      "authorship_tag": "ABX9TyMe3E4GRMdOvBsvPg0KJOoG",
      "include_colab_link": true
    },
    "kernelspec": {
      "display_name": "Python 3.8.10 64-bit",
      "language": "python",
      "name": "python3"
    },
    "language_info": {
      "name": "python",
      "version": "3.8.10"
    },
    "vscode": {
      "interpreter": {
        "hash": "916dbcbb3f70747c44a77c7bcd40155683ae19c65e1c03b4aa3499c5328201f1"
      }
    }
  },
  "nbformat": 4,
  "nbformat_minor": 0
}