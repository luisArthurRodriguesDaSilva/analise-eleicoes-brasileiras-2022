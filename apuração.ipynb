{
  "cells": [
    {
      "cell_type": "markdown",
      "metadata": {
        "id": "view-in-github",
        "colab_type": "text"
      },
      "source": [
        "<a href=\"https://colab.research.google.com/github/luisArthurRodriguesDaSilva/estudo-pandas-eleicoes2022/blob/main/apura%C3%A7%C3%A3o.ipynb\" target=\"_parent\"><img src=\"https://colab.research.google.com/assets/colab-badge.svg\" alt=\"Open In Colab\"/></a>"
      ]
    },
    {
      "cell_type": "code",
      "execution_count": null,
      "metadata": {
        "id": "aJ05iw4M1ece"
      },
      "outputs": [],
      "source": [
        "import pandas as pd\n",
        "import numpy as np\n",
        "import requests\n",
        "import pprint\n",
        "from matplotlib import pyplot as plt\n",
        "import seaborn as sns\n",
        "\n",
        "#Endpoint TSE com resultados atualizados - 10s:\n",
        "url=  'https://resultados.tse.jus.br/oficial/ele2022/544/dados-simplificados/se/se-c0001-e000544-r.json'\n",
        "\n",
        "#Fazendo a requisição na URL:\n",
        "def trabalhoDoAlberto(url,uf):\n",
        "  re=requests.get(url).json()\n",
        "  candidatos = re['cand'][:10]\n",
        "\n",
        "  df=pd.DataFrame(candidatos)\n",
        "  print(df)\n",
        "  df=df[['nm','n','dvt','vap','pvap']]\n",
        "  df.rename(columns={'nm':'Nome do Candidato',\n",
        "                  'n':'Numero do Candidato',\n",
        "                  'dvt':'Validade',\n",
        "                  'vap':'Votos',\n",
        "                  'pvap':'(%) Votos'}, inplace=True)\n",
        "\n",
        "  df['Horario Atualização']=re['hg']\n",
        "  df['(%) Votos']=df['(%) Votos'].str.replace(',','.')\n",
        "  df['(%) Votos']=df['(%) Votos'].astype(float)\n",
        "  df['Votos']=df['Votos'].astype(int)\n",
        "  df['Nome do Candidato']=df['Nome do Candidato'].str.replace('D&apos;',\"D'\")\n",
        "  df=df.sort_values(by='Votos', ascending=False)\n",
        "\n",
        "  fig, axs = plt.subplots(ncols=1, figsize=(13,6))\n",
        "\n",
        "  ax1 = sns.barplot(\n",
        "      x=\"Nome do Candidato\",\n",
        "      y='(%) Votos',\n",
        "      data=df[:10],\n",
        "      palette=\"ch:.25\",\n",
        "      ax=axs)\n",
        "\n",
        "  ax1.set(xlabel=\"Candidatos(as)\",\n",
        "          ylabel=\"(%) Votos\",\n",
        "          title=f\"Apuração de resultados Eleições 2022 {uf} - Presidente - (5 mais Votados)\",\n",
        "          ylim=(0,70))\n",
        "\n",
        "\n",
        "  # Adicionando rotulo com valores no gráfico ax1:\n",
        "  for p in ax1.patches:\n",
        "              ax1.annotate(\"%.2f\" % p.get_height(), (p.get_x() + p.get_width() / 2., p.get_height()),\n",
        "                  ha='center', va='center', fontsize=13, color='black', xytext=(2, 5),\n",
        "                  textcoords='offset points')\n",
        "\n",
        "  plt.show()\n",
        "\n",
        "  print (f'Sessões Totais em {uf}: {re[\"s\"]}')\n",
        "  print (f'Sessões Apuradas em {uf}: {re[\"st\"]}')\n",
        "  pct=int(re['st'])/int(re['s'])*100\n",
        "  print (f'Percentual de sessões apuradas em {uf}: {round(pct,4)}%')"
      ]
    },
    {
      "cell_type": "code",
      "source": [
        "BRAZIL_UFs = [\"AC\",\"AL\",\"AM\",\"AP\",\"BA\",\"CE\",\"DF\",\"ES\",\"GO\",\"MA\",\"MT\",\"MS\",\"MG\",\"PA\",\"PB\",\"PR\",\"PE\",\"PI\",\"RJ\",\"RN\",\"RO\",\"RS\",\"RR\",\"SC\",\"SE\",\"SP\",\"TO\"]\n",
        "brasil_ufs = ['ac','al','am','ap','ba','ce','df','es','go','ma','mt','ms','mg','pa','pb','pr','pe','pi','rj','rn','ro','rs','rr','sc','se','sp','to']"
      ],
      "metadata": {
        "id": "Y-ZmryttaGJt"
      },
      "execution_count": null,
      "outputs": []
    },
    {
      "cell_type": "code",
      "source": [
        "def takeData(url):\n",
        "  re=requests.get(url).json()\n",
        "  candidatos = re['cand'][:10]\n",
        "\n",
        "  df=pd.DataFrame(candidatos)\n",
        "  print(df)\n",
        "  df=df[['nm','n','dvt','vap','pvap']]\n",
        "  df.rename(columns={'nm':'Nome do Candidato',\n",
        "                  'n':'Numero do Candidato',\n",
        "                  'dvt':'Validade',\n",
        "                  'vap':'Votos',\n",
        "                  'pvap':'(%) Votos'}, inplace=True)\n",
        "  return(df)"
      ],
      "metadata": {
        "id": "t4MPBrnuhZ2x"
      },
      "execution_count": null,
      "outputs": []
    },
    {
      "cell_type": "code",
      "source": [
        "urls = list(map(lambda uf : f'https://resultados.tse.jus.br/oficial/ele2022/544/dados-simplificados/{uf}/{uf}-c0001-e000544-r.json',brasil_ufs))\n",
        "\n",
        "#for index, url in enumerate(urls) : \n",
        "#  if index<1 :\n",
        "#    trabalhoDoAlberto(url,brasil_ufs[index])\n",
        "datas = list(map(lambda x: takeData(x),urls))\n",
        "datas"
      ],
      "metadata": {
        "id": "PZ7kWNcJbOun"
      },
      "execution_count": null,
      "outputs": []
    }
  ],
  "metadata": {
    "colab": {
      "provenance": [],
      "authorship_tag": "ABX9TyNFXnrH1R2y49KMLOt6aA4+",
      "include_colab_link": true
    },
    "kernelspec": {
      "display_name": "Python 3",
      "name": "python3"
    },
    "language_info": {
      "name": "python"
    }
  },
  "nbformat": 4,
  "nbformat_minor": 0
}
