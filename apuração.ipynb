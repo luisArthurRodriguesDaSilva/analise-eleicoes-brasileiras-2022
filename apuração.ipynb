{
  "cells": [
    {
      "cell_type": "markdown",
      "metadata": {
        "id": "view-in-github",
        "colab_type": "text"
      },
      "source": [
        "<a href=\"https://colab.research.google.com/github/luisArthurRodriguesDaSilva/estudo-data-science-eleicoes/blob/master/apura%C3%A7%C3%A3o.ipynb\" target=\"_parent\"><img src=\"https://colab.research.google.com/assets/colab-badge.svg\" alt=\"Open In Colab\"/></a>"
      ]
    },
    {
      "cell_type": "code",
      "source": [
        "!pip install matplotlib --upgrade"
      ],
      "metadata": {
        "id": "x9rtF0Syf_8j"
      },
      "execution_count": null,
      "outputs": []
    },
    {
      "cell_type": "code",
      "source": [
        "import pandas as pd\n",
        "import numpy as np\n",
        "import requests\n",
        "import pprint\n",
        "from matplotlib import pyplot as plt\n",
        "import seaborn as sns\n",
        "import cmath"
      ],
      "metadata": {
        "id": "f5kfFEeuRmgH"
      },
      "execution_count": 87,
      "outputs": []
    },
    {
      "cell_type": "code",
      "source": [
        "BRAZIL_UFs = [\"AC\",\"AL\",\"AM\",\"AP\",\"BA\",\"CE\",\"DF\",\"ES\",\"GO\",\"MA\",\"MT\",\"MS\",\"MG\",\"PA\",\"PB\",\"PR\",\"PE\",\"PI\",\"RJ\",\"RN\",\"RO\",\"RS\",\"RR\",\"SC\",\"SE\",\"SP\",\"TO\"]\n",
        "brasil_ufs = ['ac','al','am','ap','ba','ce','df','es','go','ma','mt','ms','mg','pa','pb','pr','pe','pi','rj','rn','ro','rs','rr','sc','se','sp','to']"
      ],
      "metadata": {
        "id": "Y-ZmryttaGJt"
      },
      "execution_count": 3,
      "outputs": []
    },
    {
      "cell_type": "code",
      "source": [
        "def getDeputadoEstadualUrl(uf):\n",
        "  return f'https://resultados.tse.jus.br/oficial/ele2022/546/dados-simplificados/{uf}/{uf}-c0007-e000546-r.json'\n",
        "\n",
        "def getPresidentUrl(uf):\n",
        "  return f'https://resultados.tse.jus.br/oficial/ele2022/544/dados-simplificados/{uf}/{uf}-c0001-e000544-r.json'\n",
        "\n",
        "def getGovernadorUrl(uf):\n",
        "  return f'https://resultados.tse.jus.br/oficial/ele2022/546/dados-simplificados/{uf}/{uf}-c0003-e000546-r.json'\n",
        "\n",
        "def getDeputadoFederalUrl(uf):\n",
        "  return f'https://resultados.tse.jus.br/oficial/ele2022/546/dados-simplificados/{uf}/{uf}-c0006-e000546-r.json'\n",
        "\n",
        "def getSenadorUrl(uf):\n",
        "  return f'https://resultados.tse.jus.br/oficial/ele2022/546/dados-simplificados/{uf}/{uf}-c0005-e000546-r.json'\n",
        "\n",
        "gets= [getPresidentUrl, getSenadorUrl, getDeputadoFederalUrl, getDeputadoEstadualUrl, getGovernadorUrl]\n",
        "categoryKeys= ['Presidente', 'Senador', 'DeputadoFederal', 'DeputadoEstadual', 'Governador']"
      ],
      "metadata": {
        "id": "9JLw0krmmiaD"
      },
      "execution_count": 4,
      "outputs": []
    },
    {
      "cell_type": "code",
      "execution_count": 5,
      "metadata": {
        "id": "aJ05iw4M1ece"
      },
      "outputs": [],
      "source": [
        "def trabalhoDoJuan(url,uf): #taked on \n",
        "  re=requests.get(url).json()\n",
        "  candidatos = re['cand'][:10]\n",
        "\n",
        "  df=pd.DataFrame(candidatos)\n",
        "  df=df[['nm','n','dvt','vap','pvap']]\n",
        "  df.rename(columns={'nm':'Nome do Candidato',\n",
        "                  'n':'Numero do Candidato',\n",
        "                  'dvt':'Validade',\n",
        "                  'vap':'Votos',\n",
        "                  'pvap':'(%) Votos'}, inplace=True)\n",
        "\n",
        "  df['Horario Atualização']=re['hg']\n",
        "  df['(%) Votos']=df['(%) Votos'].str.replace(',','.')\n",
        "  df['(%) Votos']=df['(%) Votos'].astype(float)\n",
        "  df['Votos']=df['Votos'].astype(int)\n",
        "  df['Nome do Candidato']=df['Nome do Candidato'].str.replace('D&apos;',\"D'\")\n",
        "  df=df.sort_values(by='Votos', ascending=False)\n",
        "\n",
        "  fig, axs = plt.subplots(ncols=1, figsize=(13,6))\n",
        "\n",
        "  ax1 = sns.barplot(\n",
        "      x=\"Nome do Candidato\",\n",
        "      y='(%) Votos',\n",
        "      data=df[:10],\n",
        "      palette=\"ch:.25\",\n",
        "      ax=axs)\n",
        "\n",
        "  ax1.set(xlabel=\"Candidatos(as)\",\n",
        "          ylabel=\"(%) Votos\",\n",
        "          title=f\"Apuração de resultados Eleições 2022 {uf} - Presidente - (5 mais Votados)\",\n",
        "          ylim=(0,70))\n",
        "\n",
        "\n",
        "  # Adicionando rotulo com valores no gráfico ax1:\n",
        "  for p in ax1.patches:\n",
        "              ax1.annotate(\"%.2f\" % p.get_height(), (p.get_x() + p.get_width() / 2., p.get_height()),\n",
        "                  ha='center', va='center', fontsize=13, color='black', xytext=(2, 5),\n",
        "                  textcoords='offset points')\n",
        "\n",
        "  plt.show()\n",
        "\n",
        "  print (f'Sessões Totais em {uf}: {re[\"s\"]}')\n",
        "  print (f'Sessões Apuradas em {uf}: {re[\"st\"]}')\n",
        "  pct=int(re['st'])/int(re['s'])*100\n",
        "  print (f'Percentual de sessões apuradas em {uf}: {round(pct,4)}%')"
      ]
    },
    {
      "cell_type": "code",
      "source": [
        "trabalhoDoJuan(getGovernadorUrl('rj'),'rj')"
      ],
      "metadata": {
        "id": "wNp0ZCZDcCzy"
      },
      "execution_count": null,
      "outputs": []
    },
    {
      "cell_type": "code",
      "source": [
        "def takeData(url):\n",
        "  re=requests.get(url).json()\n",
        "  candidatos = re['cand']\n",
        "\n",
        "  df=pd.DataFrame(candidatos)\n",
        "  df=df[['nm','n','dvt','vap','pvap']]\n",
        "  df.rename(columns={'nm':'Nome do Candidato',\n",
        "                  'n':'Numero do Candidato',\n",
        "                  'dvt':'Validade',\n",
        "                  'vap':'Votos',\n",
        "                  'pvap':'(%) Votos'}, inplace=True)\n",
        "  \n",
        "  df['(%) Votos']=df['(%) Votos'].str.replace(',','.')\n",
        "  df['(%) Votos']=df['(%) Votos'].astype(float)\n",
        "  df['Votos']=df['Votos'].astype(int)\n",
        "  df['Nome do Candidato']=df['Nome do Candidato'].str.replace('D&apos;',\"D'\")\n",
        "  df=df.sort_values(by='Votos', ascending=False)\n",
        "  return(df)"
      ],
      "metadata": {
        "id": "t4MPBrnuhZ2x"
      },
      "execution_count": 7,
      "outputs": []
    },
    {
      "cell_type": "code",
      "source": [
        "def getAllDataByUf(uf):\n",
        "  info = {}\n",
        "  for index, category in enumerate(categoryKeys):\n",
        "    try:\n",
        "      info[category] = takeData(gets[index](uf))\n",
        "    except:\n",
        "      if uf == 'df':\n",
        "        info[category] = 'df não tem prefeito'\n",
        "      else:\n",
        "        info[category] = 'this is brasil'\n",
        "  return info"
      ],
      "metadata": {
        "id": "6xvRgkpFU81R"
      },
      "execution_count": 8,
      "outputs": []
    },
    {
      "cell_type": "code",
      "source": [
        "electionsData = {}\n",
        "electionsData['br'] = getAllDataByUf('br')\n",
        "for i, uf in  enumerate(brasil_ufs):\n",
        "  electionsData[uf] = getAllDataByUf(uf)"
      ],
      "metadata": {
        "id": "6Y0LYOHz5aa0"
      },
      "execution_count": 9,
      "outputs": []
    },
    {
      "cell_type": "code",
      "source": [
        "arrayVersionElectionsData = list(map(lambda uf:electionsData[uf],brasil_ufs) )"
      ],
      "metadata": {
        "id": "ovhbZ3F-Ybw9"
      },
      "execution_count": 18,
      "outputs": []
    },
    {
      "cell_type": "code",
      "source": [
        "def getDiffBetweenJairNine(uf):\n",
        "  usedData = electionsData[uf]['Presidente'][:2].values\n",
        "  #print(usedData)\n",
        "  bolsonaroScore = list(filter(lambda x: x[0]== 'JAIR BOLSONARO',usedData))[0][4]\n",
        "  nineScore = list(filter(lambda x: x[0]== 'LULA',usedData))[0][4]\n",
        "  result = float(format(abs(bolsonaroScore - nineScore),'.2f'))\n",
        "  if bolsonaroScore > nineScore:\n",
        "    return [result,'tab:green']\n",
        "  else:\n",
        "    return [result, 'tab:red']"
      ],
      "metadata": {
        "id": "Ostq0exkiHOT"
      },
      "execution_count": 109,
      "outputs": []
    },
    {
      "cell_type": "code",
      "source": [
        "ordened_ufs = sorted(brasil_ufs,key=lambda uf: getDiffBetweenJairNine(uf)[0])\n",
        "#ordened_ufs.sort(key=lambda uf: getDiffBetweenJairNine(uf)[0])\n",
        "print(ordened_ufs)\n",
        "print(brasil_ufs)"
      ],
      "metadata": {
        "id": "rMVqBZAnuefl"
      },
      "execution_count": null,
      "outputs": []
    },
    {
      "cell_type": "code",
      "source": [
        "import matplotlib.pyplot as plt\n",
        "\n",
        "fig, ax = plt.subplots()\n",
        "\n",
        "counts = (list(map(lambda uf : getDiffBetweenJairNine(uf)[0],brasil_ufs)))\n",
        "bar_colors = list(map(lambda uf : getDiffBetweenJairNine(uf)[1],brasil_ufs))\n",
        "\n",
        "ax.bar(brasil_ufs, counts, color = bar_colors) #label=bar_labels, color=bar_orscol)\n",
        "ax.set_ylabel('%')\n",
        "ax.set_title('diferença entre lula e bolsonaro por estado no país')\n",
        "ax.legend()\n",
        "\n",
        "plt.show()"
      ],
      "metadata": {
        "colab": {
          "base_uri": "https://localhost:8080/",
          "height": 318
        },
        "id": "HaDAzyEzZTFj",
        "outputId": "8b87fc23-8628-48c9-b5c8-6b8bf5fae8f8"
      },
      "execution_count": 127,
      "outputs": [
        {
          "output_type": "stream",
          "name": "stderr",
          "text": [
            "WARNING:matplotlib.legend:No artists with labels found to put in legend.  Note that artists whose label start with an underscore are ignored when legend() is called with no argument.\n"
          ]
        },
        {
          "output_type": "display_data",
          "data": {
            "text/plain": [
              "<Figure size 432x288 with 1 Axes>"
            ],
            "image/png": "[encoded data removed]"
          },
          "metadata": {
            "needs_background": "light"
          }
        }
      ]
    }
  ],
  "metadata": {
    "colab": {
      "provenance": [],
      "authorship_tag": "ABX9TyPWzdGALpdO3VRWMucTCfgS",
      "include_colab_link": true
    },
    "kernelspec": {
      "display_name": "Python 3",
      "name": "python3"
    },
    "language_info": {
      "name": "python"
    }
  },
  "nbformat": 4,
  "nbformat_minor": 0
}