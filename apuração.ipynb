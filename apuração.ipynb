{
  "cells": [
    {
      "cell_type": "markdown",
      "metadata": {
        "colab_type": "text",
        "id": "view-in-github"
      },
      "source": [
        "<a href=\"https://colab.research.google.com/github/luisArthurRodriguesDaSilva/estudo-data-science-eleicoes/blob/master/apura%C3%A7%C3%A3o.ipynb\" target=\"_parent\"><img src=\"https://colab.research.google.com/assets/colab-badge.svg\" alt=\"Open In Colab\"/></a>"
      ]
    },
    {
      "cell_type": "markdown",
      "metadata": {
        "id": "y9BYZfDKZvg9"
      },
      "source": [
        "# 1 importações de bibliotecas e recursos"
      ]
    },
    {
      "cell_type": "code",
      "execution_count": 1,
      "metadata": {
        "id": "f5kfFEeuRmgH"
      },
      "outputs": [],
      "source": [
        "import pandas as pd\n",
        "import numpy as np\n",
        "import requests\n",
        "import pprint\n",
        "from matplotlib import pyplot as plt\n",
        "import seaborn as sns\n",
        "import cmath"
      ]
    },
    {
      "cell_type": "markdown",
      "metadata": {
        "id": "KPL-MgI_aEyI"
      },
      "source": [
        "# 2 funções para fazer as devidas requisições na api"
      ]
    },
    {
      "cell_type": "code",
      "execution_count": 3,
      "metadata": {
        "id": "9JLw0krmmiaD"
      },
      "outputs": [],
      "source": [
        "def getDeputadoEstadualUrl(uf):\n",
        "  return f'https://resultados.tse.jus.br/oficial/ele2022/546/dados-simplificados/{uf}/{uf}-c0007-e000546-r.json'\n",
        "\n",
        "def getPresidentUrl(uf):\n",
        "  return f'https://resultados.tse.jus.br/oficial/ele2022/544/dados-simplificados/{uf}/{uf}-c0001-e000544-r.json'\n",
        "\n",
        "def getGovernadorUrl(uf):\n",
        "  return f'https://resultados.tse.jus.br/oficial/ele2022/546/dados-simplificados/{uf}/{uf}-c0003-e000546-r.json'\n",
        "\n",
        "def getDeputadoFederalUrl(uf):\n",
        "  return f'https://resultados.tse.jus.br/oficial/ele2022/546/dados-simplificados/{uf}/{uf}-c0006-e000546-r.json'\n",
        "\n",
        "def getSenadorUrl(uf):\n",
        "  return f'https://resultados.tse.jus.br/oficial/ele2022/546/dados-simplificados/{uf}/{uf}-c0005-e000546-r.json'\n",
        "\n",
        "gets= [getPresidentUrl, getSenadorUrl, getDeputadoFederalUrl, getDeputadoEstadualUrl, getGovernadorUrl]\n",
        "categoryKeys= ['Presidente', 'Senador', 'DeputadoFederal', 'DeputadoEstadual', 'Governador']\n",
        "brasil_ufs = ['ac','al','am','ap','ba','ce','df','es','go','ma','mt','ms','mg','pa','pb','pr','pe','pi','rj','rn','ro','rs','rr','sc','se','sp','to']"
      ]
    },
    {
      "cell_type": "markdown",
      "metadata": {
        "id": "NFNmKIPVaUYS"
      },
      "source": [
        "# Criação do electionsData\n",
        "### ele é um objeto mais organizado contendo todas as informações separadas por estado"
      ]
    },
    {
      "cell_type": "code",
      "execution_count": 4,
      "metadata": {
        "id": "t4MPBrnuhZ2x"
      },
      "outputs": [],
      "source": [
        "def takeData(url):\n",
        "  re=requests.get(url).json()\n",
        "  candidatos = re['cand']\n",
        "\n",
        "  df=pd.DataFrame(candidatos)\n",
        "  df=df[['nm','n','dvt','vap','pvap']]\n",
        "  df.rename(columns={'nm':'Nome do Candidato',\n",
        "                  'n':'Numero do Candidato',\n",
        "                  'dvt':'Validade',\n",
        "                  'vap':'Votos',\n",
        "                  'pvap':'(%) Votos'}, inplace=True)\n",
        "  \n",
        "  df['(%) Votos']=df['(%) Votos'].str.replace(',','.')\n",
        "  df['(%) Votos']=df['(%) Votos'].astype(float)\n",
        "  df['Votos']=df['Votos'].astype(int)\n",
        "  df['Nome do Candidato']=df['Nome do Candidato'].str.replace('D&apos;',\"D'\")\n",
        "  df=df.sort_values(by='Votos', ascending=False)\n",
        "  return(df)"
      ]
    },
    {
      "cell_type": "code",
      "execution_count": 5,
      "metadata": {
        "id": "6xvRgkpFU81R"
      },
      "outputs": [],
      "source": [
        "def getAllDataByUf(uf):\n",
        "  info = {}\n",
        "  for index, category in enumerate(categoryKeys):\n",
        "    try:\n",
        "      info[category] = takeData(gets[index](uf))\n",
        "    except:\n",
        "      if uf == 'df':\n",
        "        info[category] = 'df não tem prefeito'\n",
        "      else:\n",
        "        info[category] = 'this is brasil'\n",
        "  return info"
      ]
    },
    {
      "cell_type": "code",
      "execution_count": 7,
      "metadata": {
        "id": "6Y0LYOHz5aa0"
      },
      "outputs": [],
      "source": [
        "electionsData = {}\n",
        "electionsData['br'] = getAllDataByUf('br')\n",
        "for i, uf in  enumerate(brasil_ufs):\n",
        "  electionsData[uf] = getAllDataByUf(uf)"
      ]
    },
    {
      "cell_type": "markdown",
      "metadata": {
        "id": "QR_JjKvVZARW"
      },
      "source": [
        "# Os Graficos Começam daqui pra baixo"
      ]
    },
    {
      "cell_type": "code",
      "execution_count": 6,
      "metadata": {
        "id": "Ostq0exkiHOT"
      },
      "outputs": [],
      "source": [
        "def getDiffBetweenJairNine(uf):\n",
        "  usedData = electionsData[uf]['Presidente'][:2].values\n",
        "  #print(usedData)\n",
        "  bolsonaroScore = list(filter(lambda x: x[0]== 'JAIR BOLSONARO',usedData))[0][4]\n",
        "  nineScore = list(filter(lambda x: x[0]== 'LULA',usedData))[0][4]\n",
        "  result = float(format(abs(bolsonaroScore - nineScore),'.2f'))\n",
        "  if bolsonaroScore > nineScore:\n",
        "    return [result,'tab:green']\n",
        "  else:\n",
        "    return [result, 'tab:red']"
      ]
    },
    {
      "cell_type": "code",
      "execution_count": 8,
      "metadata": {
        "colab": {
          "base_uri": "https://localhost:8080/",
          "height": 350
        },
        "id": "HaDAzyEzZTFj",
        "outputId": "db917357-769f-4a7c-c75c-ed27c8ddec1e"
      },
      "outputs": [
        {
          "data": {
            "image/png": "[encoded data removed]",
            "text/plain": [
              "<Figure size 720x360 with 1 Axes>"
            ]
          },
          "metadata": {
            "needs_background": "light"
          },
          "output_type": "display_data"
        }
      ],
      "source": [
        "ordened_ufs = sorted(brasil_ufs,key=lambda uf: getDiffBetweenJairNine(uf)[0])\n",
        "fig, ax = plt.subplots()\n",
        "\n",
        "counts = (list(map(lambda uf : getDiffBetweenJairNine(uf)[0],ordened_ufs)))\n",
        "bar_colors = list(map(lambda uf : getDiffBetweenJairNine(uf)[1],ordened_ufs))\n",
        "fig.set_size_inches(10,5)\n",
        "ax.bar(ordened_ufs, counts, color = bar_colors)\n",
        "ax.bar([0], [0], color = 'green', label='onde bolsonaro ganhou') #metodo para conseguir colocar a legenda\n",
        "ax.bar([0 ],[0 ], color = 'red', label='onde lula ganhou')\n",
        "ax.set_ylabel('%')\n",
        "ax.set_xlabel('estados')\n",
        "ax.set_title('diferença entre lula e bolsonaro por estado no país')\n",
        "ax.legend()\n",
        "\n",
        "plt.show()"
      ]
    },
    {
      "cell_type": "code",
      "execution_count": 9,
      "metadata": {
        "colab": {
          "base_uri": "https://localhost:8080/",
          "height": 350
        },
        "id": "hgrw8irEPUBp",
        "outputId": "086fbf67-9916-4557-fc4a-2b43561707d9"
      },
      "outputs": [
        {
          "data": {
            "image/png": "[encoded data removed]",
            "text/plain": [
              "<Figure size 720x360 with 1 Axes>"
            ]
          },
          "metadata": {
            "needs_background": "light"
          },
          "output_type": "display_data"
        }
      ],
      "source": [
        "def separeLulaBolso(uf):\n",
        "  acrecimo = 0 if getDiffBetweenJairNine(uf)[1] ==  'tab:green' else 100\n",
        "  return getDiffBetweenJairNine(uf)[0] + acrecimo\n",
        "\n",
        "ordened_ufs = sorted(brasil_ufs,key=separeLulaBolso)\n",
        "\n",
        "counts = (list(map(lambda uf : getDiffBetweenJairNine(uf)[0],ordened_ufs)))\n",
        "bar_colors = list(map(lambda uf : getDiffBetweenJairNine(uf)[1],ordened_ufs))\n",
        "fig, ax = plt.subplots()\n",
        "ax.bar(ordened_ufs, counts, color = bar_colors)\n",
        "ax.bar([0], [0], color = 'green', label='onde bolsonaro ganhou') #metodo para conseguir colocar a legenda\n",
        "ax.bar([0 ],[0 ], color = 'red', label='onde lula ganhou')\n",
        "# bar_colors = list(map(lambda uf : getDiffBetweenJairNine(uf)[1],ordened_ufs))\n",
        "fig.set_size_inches(10,5)\n",
        "ax.set_ylabel('%')\n",
        "ax.set_xlabel('estados')\n",
        "ax.set_title('diferença entre lula e bolsonaro por estado no país separadamente')\n",
        "ax.legend()\n",
        "\n",
        "plt.show()"
      ]
    }
  ],
  "metadata": {
    "colab": {
      "authorship_tag": "ABX9TyNN0oRY4JzBqp8tEdzi8Zu7",
      "include_colab_link": true,
      "provenance": []
    },
    "kernelspec": {
      "display_name": "Python 3.8.10 64-bit",
      "language": "python",
      "name": "python3"
    },
    "language_info": {
      "name": "python",
      "version": "3.8.10"
    },
    "vscode": {
      "interpreter": {
        "hash": "916dbcbb3f70747c44a77c7bcd40155683ae19c65e1c03b4aa3499c5328201f1"
      }
    }
  },
  "nbformat": 4,
  "nbformat_minor": 0
}
